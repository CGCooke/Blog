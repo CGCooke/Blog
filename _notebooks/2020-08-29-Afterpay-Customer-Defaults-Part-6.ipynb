{
 "cells": [
  {
   "cell_type": "markdown",
   "metadata": {},
   "source": [
    "# How often do Afterpay's customers default?\n",
    "> I want to take a step back, and discuss what we have learned so far, and what I think the next steps could be.\n",
    "\n",
    "- toc: true \n",
    "- badges: true\n",
    "- comments: true\n",
    "- categories: [Bayesian,PyMC3,Finance,Monte Carlo Simulation,Afterpay]\n",
    "    \n",
    "- image: images/2020-08-21-Afterpay-Customer-Defaults-Part-1/header.jpg"
   ]
  },
  {
   "cell_type": "markdown",
   "metadata": {},
   "source": [
    "> Important:  Obviously I need a disclaimer. If you use anything I say as the basis for any decision, financial or otherwise, you are an idiot.\n",
    "\n",
    "\n",
    "## What do we know?\n",
    "\n",
    "1. 10% of purchases incur a late fee{% fn 1 %}. \n",
    "1. If you are late on one payment, there is a moderate chance that you will be late on one of the other 3{% fn 2 %}.\n",
    "3. Late fees are 12-14 AUD on average{% fn 3 %}.\n",
    "\n",
    "## Commentary\n",
    "\n",
    "\"Buy Now, Pay Later\" (BNPL) service providers like *Afterpay* have stormed onto the scene, attracting the attention of both consumers, as well as investors. \n",
    "\n",
    "I'm intrigued by *Afterpay*. I understand that a cohort of consumers exists, who may require the cost of a purchase to be spread over 8 weeks, in order to be able to afford it. However, I fail to see the attraction for most creditworthy customers. Unless *Afterpay* dramatically starts allowing me to buy shares, I'm not really interested.\n",
    "\n",
    "However, just because I don't see the value, doesn't mean that other people might adopt and love the product. It's clear that millions of people both in Australia, and overseas regularly use *Afterpay*. \n",
    "\n",
    "\n",
    "All things being equal, I can see the consumer benefits of *Afterpay*, vs other more classical forms of consumer credit (Credit cards, payday loans etc). However, *Afterpay*'s customers don't live in a vacuum, and It's entirely possible that some cohort of their customers may be using a medley of products and services to finance their lifestyle. \n",
    "\n",
    "However, all of these things exist outside the reality of what *Afterpay* reports to the ASX, and outside of my focus. I wanted to dig deeper, and try and disentangle what was happening, unobserved beneath the surface.It's critical that *Afterpay* protects its brand image, so I understand why *Afterpay* might prefer to talk at a high level about adverse outcomes.\n",
    "\n",
    "My goal is, to try and reconstruct the clearest picture possible, even though the official published information forces us to look through a glass, darkly.\n",
    "\n",
    "\n",
    "## Appendix\n",
    "{{ \"This is the actual footnote\" | fndetail: 1 }}\n",
    "{{ \"This is the actual footnote\" | fndetail: 2 }}\n",
    "{{ \"This is the actual footnote\" | fndetail: 3 }}"
   ]
  },
  {
   "cell_type": "code",
   "execution_count": null,
   "metadata": {},
   "outputs": [],
   "source": []
  }
 ],
 "metadata": {
  "kernelspec": {
   "display_name": "PyMC3",
   "language": "python",
   "name": "pymc3"
  },
  "language_info": {
   "codemirror_mode": {
    "name": "ipython",
    "version": 3
   },
   "file_extension": ".py",
   "mimetype": "text/x-python",
   "name": "python",
   "nbconvert_exporter": "python",
   "pygments_lexer": "ipython3",
   "version": "3.7.7"
  }
 },
 "nbformat": 4,
 "nbformat_minor": 2
}
