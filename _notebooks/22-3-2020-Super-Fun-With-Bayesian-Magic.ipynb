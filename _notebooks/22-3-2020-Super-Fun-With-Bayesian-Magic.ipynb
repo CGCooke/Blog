{
 "cells": [
  {
   "cell_type": "markdown",
   "metadata": {},
   "source": [
    "# Super Fun with Bayesian Magic\n",
    "> Let's reverse engineer a superannuation fund, because I'm bored in lockdown.\n",
    "\n",
    "- toc: true \n",
    "- badges: true\n",
    "- comments: true\n",
    "- categories: [Bayesian, Finance]\n",
    "- image: images/22-3-2020-Super-Fun-With-Bayesian-Magic/australian-money-money-note-notes-529875.jpg"
   ]
  },
  {
   "cell_type": "markdown",
   "metadata": {},
   "source": [
    "In Australia, there have been a number of radical fiscal proposals to fight the economic impacts of COV19.\n",
    "One of these is to allow \"Casual\" workers (Those without paid leave entitlements) to withdraw money from their \"Superannuation\" (Pension) savings account. It's a radical proposal, and one of my friends wanted to uderstand more about the impacts that this would have. \n",
    "\n",
    "Let's do some analysis, to try and understand what the impact of this policy could be. "
   ]
  }
 ],
 "metadata": {
  "kernelspec": {
   "display_name": "PyMC3",
   "language": "python",
   "name": "pymc3"
  },
  "language_info": {
   "codemirror_mode": {
    "name": "ipython",
    "version": 3
   },
   "file_extension": ".py",
   "mimetype": "text/x-python",
   "name": "python",
   "nbconvert_exporter": "python",
   "pygments_lexer": "ipython3",
   "version": "3.7.6"
  }
 },
 "nbformat": 4,
 "nbformat_minor": 4
}
