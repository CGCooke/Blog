{
 "cells": [
  {
   "cell_type": "markdown",
   "metadata": {},
   "source": [
    "# Super Fun with Bayesian Magic\n",
    "> Let's reverse engineer a superannuation fund, because I'm bored in lockdown.\n",
    "\n",
    "- toc: true \n",
    "- badges: true\n",
    "- comments: true\n",
    "- categories: [Bayesian, Finance]\n",
    "- image: images/22-3-2020-Super-Fun-With-Bayesian-Magic/australian-money-money-note-notes-529875.jpg"
   ]
  },
  {
   "cell_type": "markdown",
   "metadata": {},
   "source": [
    "In Australia, there have been a number of radical fiscal proposals to fight the economic impacts of COV19.\n",
    "One of these is to allow \"Casual\" workers (Those without paid leave entitlements) to withdraw money from their Superannuation account. It's a radical proposal, and one of my friends wanted to understand more about the impacts that this would have. "
   ]
  },
  {
   "cell_type": "markdown",
   "metadata": {},
   "source": [
    "Their exact question was:\n",
    "> \"I want to know what you would estimate the balance of young people to be (Under the age of 34)\""
   ]
  },
  {
   "cell_type": "markdown",
   "metadata": {},
   "source": [
    "> Note: Superannuation is a type of pension savings account in Australia, where 9.5% of an employees gross salary is contributed by an employer to an employees account. The account is usually only avalible to the employee when they retire at age 65. While employees have an individual fund, investment decisions are made by a fund manager. With \\$1.5 Trillion USD of total assets, and 15M members, the scheme has an average balance of \\$100,000 USD per member."
   ]
  },
  {
   "cell_type": "markdown",
   "metadata": {},
   "source": [
    "Let's do some analysis, to try and understand more about what the balance of a typical member, in different age and gender brackets looks like. \n",
    "\n",
    "I'm focussing on a Superannuation fund called *Hostplus* who describe themselves as follows: \n",
    "> \"Hostplus is the industry fund for those that live and love Australian hospitality, tourism, recreation and sport\".\n",
    "\n",
    "IE, It's highly likely that many of their members are casual, and will be impacted by this new policy.\n"
   ]
  },
  {
   "cell_type": "markdown",
   "metadata": {},
   "source": [
    "Now for some data, I'm pulling it from (here)[https://www.apra.gov.au/annual-fund-level-superannuation-statistics]\n",
    "\n"
   ]
  },
  {
   "cell_type": "markdown",
   "metadata": {},
   "source": [
    "| Below age 25 | Number of member accounts | Fund percentage | Average percentage across all funds |\n",
    "|--------------|---------------------------|-----------------|-------------------------------------|\n",
    "| - Male       | 137,531                   | 12              | 5                                   |\n",
    "| - Female     | 121,298                   | 10              | 6                                   |\n",
    "| Age 25-34    |                           |                 |                                     |\n",
    "| - Male       | 211,192                   | 18              | 11                                  |\n",
    "| - Female     | 197,421                   | 17              | 12                                  |\n",
    "| Age 35-44    |                           |                 |                                     |\n",
    "| - Male       | 126,284                   | 11              | 10                                  |\n",
    "| - Female     | 118,578                   | 10              | 12                                  |"
   ]
  },
  {
   "cell_type": "code",
   "execution_count": null,
   "metadata": {},
   "outputs": [],
   "source": [
    "(Source 1)[https://www.superannuation.asn.au/ArticleDocuments/359/1710_Superannuation_account_balances_by_age_and_gender.pdf.aspx]\n",
    "\n",
    "\n"
   ]
  }
 ],
 "metadata": {
  "kernelspec": {
   "display_name": "PyMC3",
   "language": "python",
   "name": "pymc3"
  },
  "language_info": {
   "codemirror_mode": {
    "name": "ipython",
    "version": 3
   },
   "file_extension": ".py",
   "mimetype": "text/x-python",
   "name": "python",
   "nbconvert_exporter": "python",
   "pygments_lexer": "ipython3",
   "version": "3.7.6"
  }
 },
 "nbformat": 4,
 "nbformat_minor": 4
}
