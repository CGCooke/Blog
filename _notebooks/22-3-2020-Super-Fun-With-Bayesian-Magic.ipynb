{
 "cells": [
  {
   "cell_type": "markdown",
   "metadata": {},
   "source": [
    "# Super Fun with Bayesian Magic\n",
    "> Let's reverse engineer a superannuation fund, because I'm bored in lockdown.\n",
    "\n",
    "- toc: true \n",
    "- badges: true\n",
    "- comments: true\n",
    "- categories: [Bayesian, Finance]\n",
    "- image: images/22-3-2020-Super-Fun-With-Bayesian-Magic/australian-money-money-note-notes-529875.jpg"
   ]
  },
  {
   "cell_type": "markdown",
   "metadata": {},
   "source": [
    "In Australia, there have been a number of radical fiscal proposals to fight the economic impacts of COV19.\n",
    "One of these is to allow \"Casual\" workers (Those without paid leave entitlements) to withdraw money from their Superannuation account. It's a radical proposal, and one of my friends wanted to understand more about the impacts that this would have. \n",
    "\n",
    "> Note: Superannuation is a type of pension savings account in Australia, where 9.5% of an employees gross salary is contributed by an employer to an employees account. The account is usually only avalible to the employee when they retire at age 65. While employees have an individual fund, investment decisions are made by a fund manager. With 1.5 Trillion USD of total assets, and 15M members, the scheme has an average balance of 100,000 USD per member.\n",
    "\n",
    "Let's do some analysis, to try and understand more about wwhat the balance of a typical member, in different age and gender brackets looks like. \n",
    "\n",
    "I'm focussing on a Superannuation fund called *Hostplus*, in their own words: \n",
    "> \"Hostplus is the industry fund for those that live and love Australian hospitality, tourism, recreation and sport\".\n",
    "\n",
    "IE, It's highly likely that many of their members are casual, and will be impacted by this new policy."
   ]
  }
 ],
 "metadata": {
  "kernelspec": {
   "display_name": "PyMC3",
   "language": "python",
   "name": "pymc3"
  },
  "language_info": {
   "codemirror_mode": {
    "name": "ipython",
    "version": 3
   },
   "file_extension": ".py",
   "mimetype": "text/x-python",
   "name": "python",
   "nbconvert_exporter": "python",
   "pygments_lexer": "ipython3",
   "version": "3.7.6"
  }
 },
 "nbformat": 4,
 "nbformat_minor": 4
}
