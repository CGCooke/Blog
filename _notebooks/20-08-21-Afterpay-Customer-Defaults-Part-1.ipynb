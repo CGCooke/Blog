{
 "cells": [
  {
   "cell_type": "markdown",
   "metadata": {},
   "source": [
    "# What does an customer default with Afterpay look like ?\n",
    "> Let's take a high level view of what an aveage default looks like, based on Afterpay's FY2019 Annual report.\n",
    "\n",
    "- toc: true \n",
    "- badges: true\n",
    "- comments: true\n",
    "- categories: [Bayesian,Finance]\n",
    "    \n",
    "- image: images/20-08-13-Modelling-Afterpays-Customer-Growth/header.png"
   ]
  },
  {
   "cell_type": "markdown",
   "metadata": {},
   "source": [
    "## Introduction\n",
    "\n",
    "I'm interested in what a typical default with *Afterpay* looks like. I have probably read hundreds of pages of information published by *Afterpay*, but I'm yet to see them mention the average default size.\n",
    "\n",
    "Because I'm curious, and I'm looking for a way to entertain myself on a long train ride, I decided to try and work it out myself.\n",
    "\n",
    "\n",
    "\n",
    "> Important:  Obviously I need a disclaimer. If you use anything I say as the basis for any decision, financial or otherwise, you are an idiot.\n",
    "\n",
    "\n",
    "## What do we know?\n",
    "\n",
    "* Gross Default Loss: 58.7 million AUD\n",
    "* Late Fees Revenue : 46.1 million AUD\n",
    "* Average Transaction Value : Approximately 150 AUD\n",
    "   \n",
    "Furthermore, we know that the lowest and highest fee that you can be charged for a single transaction is 10 AUD and 68 AUD. Hence, this in turn bounds the average of the late fees.\n",
    "\n",
    "\n",
    "![Page 43 of the Afterpay FY2019 Annual Report](../images/20-08-21-Afterpay-Customer-Defaults-Part-1/Page43.png)\n",
    "\n",
    "Let's spend a minute thinking about the different paths a transaction could take.\n",
    "\n",
    "1. The customer makes good on all their payments, on time.\n",
    "\n",
    "2. The customer makes no payments, including late fees.\n",
    "\n",
    "3. The customer is continually late making payment, but in the end makes all the payments required.\n",
    "\n",
    "4. A combination of 2 and 3, where the customer makes some payments, before ultimately defaulting.\n",
    "\n",
    "\n",
    "In the case of 2 and 4, there will be a contribution to *GROSS LOSS* (Afterpay doesn't get paid what's owed in full).\n",
    "\n",
    "In the case of 3 and 4, there will be a contribution to *LATE FEES* (Afterpay doesn't get paid on time).\n",
    "\n",
    "\n",
    "![Page 54 of the Afterpay FY2019 Annual Report](../images/20-08-21-Afterpay-Customer-Defaults-Part-1/Page54.png)\n",
    "\n",
    "\n",
    "Let's now use PyMC3 to performa a *Monte Carlo* simulation, to estimate how often cases 3 and 4 occour. "
   ]
  },
  {
   "cell_type": "code",
   "execution_count": 23,
   "metadata": {},
   "outputs": [],
   "source": [
    "%matplotlib inline\n",
    "import pymc3 as pm\n",
    "import matplotlib.pyplot as plt\n",
    "import numpy as np\n",
    "import math\n",
    "import seaborn as sns\n",
    "import scipy\n",
    "\n",
    "plt.rcParams[\"figure.figsize\"] = (10,10)\n",
    "from warnings import filterwarnings\n",
    "filterwarnings('ignore')\n"
   ]
  },
  {
   "cell_type": "markdown",
   "metadata": {},
   "source": [
    "While not strictly necessary, I'm modelling \"underlying_sales_aud\", \"late_fees_rev_aud\" and \"average_transaction_value_aud\" as random variables, so that they show up in the variable graph."
   ]
  },
  {
   "cell_type": "code",
   "execution_count": 14,
   "metadata": {},
   "outputs": [],
   "source": [
    "with pm.Model() as model:\n",
    "    underlying_sales_aud = pm.Uniform('underlying_sales_aud', lower=5.24715*10**9, upper=5.247249*10**9)\n",
    "    \n",
    "    late_fees_rev_aud = pm.Uniform('late_fees_rev', lower=46.05 * 10**6, upper=46.149 * 10**6)\n",
    "    \n",
    "    average_transaction_value_aud = pm.Uniform('average_transaction_value', lower=144.50, upper=154.49)\n",
    "    \n",
    "    average_late_fee_aud = pm.Uniform('average_late_fee',lower = 10, upper = 68)\n",
    "    \n",
    "    number_of_transactions = pm.Deterministic('number_of_transactions', underlying_sales_aud / average_transaction_value_aud)\n",
    "    \n",
    "    late_payment_rate = pm.Deterministic('late_payment_rate',late_fees_rev_aud / (number_of_transactions * average_late_fee_aud))\n",
    "    "
   ]
  },
  {
   "cell_type": "markdown",
   "metadata": {},
   "source": [
    "Now that we have instantiated all of the random variables, we will take 50,000 draws from them, in order to perform our *Monte carlo* simulation."
   ]
  },
  {
   "cell_type": "code",
   "execution_count": 15,
   "metadata": {},
   "outputs": [],
   "source": [
    "with model:\n",
    "    prior_checks = pm.sample_prior_predictive(samples=50_000, random_seed=0)"
   ]
  },
  {
   "cell_type": "markdown",
   "metadata": {},
   "source": [
    "## Variable Graph\n",
    "\n",
    "We can graph the relationship between all our variables. From this we can quickly see which variables are key dependencies. "
   ]
  },
  {
   "cell_type": "code",
   "execution_count": 16,
   "metadata": {},
   "outputs": [
    {
     "data": {
      "image/svg+xml": [
       "<?xml version=\"1.0\" encoding=\"UTF-8\" standalone=\"no\"?>\n",
       "<!DOCTYPE svg PUBLIC \"-//W3C//DTD SVG 1.1//EN\"\n",
       " \"http://www.w3.org/Graphics/SVG/1.1/DTD/svg11.dtd\">\n",
       "<!-- Generated by graphviz version 2.42.3 (20191010.1750)\n",
       " -->\n",
       "<!-- Title: %3 Pages: 1 -->\n",
       "<svg width=\"700pt\" height=\"188pt\"\n",
       " viewBox=\"0.00 0.00 699.57 188.00\" xmlns=\"http://www.w3.org/2000/svg\" xmlns:xlink=\"http://www.w3.org/1999/xlink\">\n",
       "<g id=\"graph0\" class=\"graph\" transform=\"scale(1 1) rotate(0) translate(4 184)\">\n",
       "<title>%3</title>\n",
       "<polygon fill=\"white\" stroke=\"transparent\" points=\"-4,4 -4,-184 695.57,-184 695.57,4 -4,4\"/>\n",
       "<!-- late_payment_rate -->\n",
       "<g id=\"node1\" class=\"node\">\n",
       "<title>late_payment_rate</title>\n",
       "<polygon fill=\"none\" stroke=\"black\" points=\"438.07,-36 227.74,-36 227.74,0 438.07,0 438.07,-36\"/>\n",
       "<text text-anchor=\"middle\" x=\"332.9\" y=\"-13.8\" font-family=\"Times,serif\" font-size=\"14.00\">late_payment_rate ~ Deterministic</text>\n",
       "</g>\n",
       "<!-- late_fees_rev -->\n",
       "<g id=\"node2\" class=\"node\">\n",
       "<title>late_fees_rev</title>\n",
       "<ellipse fill=\"none\" stroke=\"black\" cx=\"96.9\" cy=\"-90\" rx=\"96.81\" ry=\"18\"/>\n",
       "<text text-anchor=\"middle\" x=\"96.9\" y=\"-85.8\" font-family=\"Times,serif\" font-size=\"14.00\">late_fees_rev ~ Uniform</text>\n",
       "</g>\n",
       "<!-- late_fees_rev&#45;&gt;late_payment_rate -->\n",
       "<g id=\"edge3\" class=\"edge\">\n",
       "<title>late_fees_rev&#45;&gt;late_payment_rate</title>\n",
       "<path fill=\"none\" stroke=\"black\" d=\"M146.09,-74.41C180.69,-64.15 227.42,-50.29 265.49,-39\"/>\n",
       "<polygon fill=\"black\" stroke=\"black\" points=\"266.88,-42.24 275.47,-36.04 264.89,-35.52 266.88,-42.24\"/>\n",
       "</g>\n",
       "<!-- average_transaction_value -->\n",
       "<g id=\"node3\" class=\"node\">\n",
       "<title>average_transaction_value</title>\n",
       "<ellipse fill=\"none\" stroke=\"black\" cx=\"188.9\" cy=\"-162\" rx=\"144.1\" ry=\"18\"/>\n",
       "<text text-anchor=\"middle\" x=\"188.9\" y=\"-157.8\" font-family=\"Times,serif\" font-size=\"14.00\">average_transaction_value ~ Uniform</text>\n",
       "</g>\n",
       "<!-- number_of_transactions -->\n",
       "<g id=\"node4\" class=\"node\">\n",
       "<title>number_of_transactions</title>\n",
       "<polygon fill=\"none\" stroke=\"black\" points=\"453.98,-108 211.83,-108 211.83,-72 453.98,-72 453.98,-108\"/>\n",
       "<text text-anchor=\"middle\" x=\"332.9\" y=\"-85.8\" font-family=\"Times,serif\" font-size=\"14.00\">number_of_transactions ~ Deterministic</text>\n",
       "</g>\n",
       "<!-- average_transaction_value&#45;&gt;number_of_transactions -->\n",
       "<g id=\"edge2\" class=\"edge\">\n",
       "<title>average_transaction_value&#45;&gt;number_of_transactions</title>\n",
       "<path fill=\"none\" stroke=\"black\" d=\"M223.03,-144.41C242.66,-134.87 267.55,-122.77 288.67,-112.5\"/>\n",
       "<polygon fill=\"black\" stroke=\"black\" points=\"290.31,-115.6 297.77,-108.08 287.25,-109.3 290.31,-115.6\"/>\n",
       "</g>\n",
       "<!-- number_of_transactions&#45;&gt;late_payment_rate -->\n",
       "<g id=\"edge4\" class=\"edge\">\n",
       "<title>number_of_transactions&#45;&gt;late_payment_rate</title>\n",
       "<path fill=\"none\" stroke=\"black\" d=\"M332.9,-71.7C332.9,-63.98 332.9,-54.71 332.9,-46.11\"/>\n",
       "<polygon fill=\"black\" stroke=\"black\" points=\"336.41,-46.1 332.9,-36.1 329.41,-46.1 336.41,-46.1\"/>\n",
       "</g>\n",
       "<!-- average_late_fee -->\n",
       "<g id=\"node5\" class=\"node\">\n",
       "<title>average_late_fee</title>\n",
       "<ellipse fill=\"none\" stroke=\"black\" cx=\"581.9\" cy=\"-90\" rx=\"109.82\" ry=\"18\"/>\n",
       "<text text-anchor=\"middle\" x=\"581.9\" y=\"-85.8\" font-family=\"Times,serif\" font-size=\"14.00\">average_late_fee ~ Uniform</text>\n",
       "</g>\n",
       "<!-- average_late_fee&#45;&gt;late_payment_rate -->\n",
       "<g id=\"edge5\" class=\"edge\">\n",
       "<title>average_late_fee&#45;&gt;late_payment_rate</title>\n",
       "<path fill=\"none\" stroke=\"black\" d=\"M529.1,-74.15C492.43,-63.85 443.19,-50 403.21,-38.76\"/>\n",
       "<polygon fill=\"black\" stroke=\"black\" points=\"404.09,-35.38 393.52,-36.04 402.2,-42.12 404.09,-35.38\"/>\n",
       "</g>\n",
       "<!-- underlying_sales_aud -->\n",
       "<g id=\"node6\" class=\"node\">\n",
       "<title>underlying_sales_aud</title>\n",
       "<ellipse fill=\"none\" stroke=\"black\" cx=\"477.9\" cy=\"-162\" rx=\"126.77\" ry=\"18\"/>\n",
       "<text text-anchor=\"middle\" x=\"477.9\" y=\"-157.8\" font-family=\"Times,serif\" font-size=\"14.00\">underlying_sales_aud ~ Uniform</text>\n",
       "</g>\n",
       "<!-- underlying_sales_aud&#45;&gt;number_of_transactions -->\n",
       "<g id=\"edge1\" class=\"edge\">\n",
       "<title>underlying_sales_aud&#45;&gt;number_of_transactions</title>\n",
       "<path fill=\"none\" stroke=\"black\" d=\"M443.91,-144.59C424.08,-135.01 398.83,-122.82 377.42,-112.49\"/>\n",
       "<polygon fill=\"black\" stroke=\"black\" points=\"378.73,-109.24 368.2,-108.04 375.69,-115.54 378.73,-109.24\"/>\n",
       "</g>\n",
       "</g>\n",
       "</svg>\n"
      ],
      "text/plain": [
       "<graphviz.dot.Digraph at 0x1a2d5e4a10>"
      ]
     },
     "execution_count": 16,
     "metadata": {},
     "output_type": "execute_result"
    }
   ],
   "source": [
    "pm.model_to_graphviz(model)"
   ]
  },
  {
   "cell_type": "markdown",
   "metadata": {},
   "source": [
    "## Results\n",
    "\n",
    "We can now visualise the distribution of possible values for the late payment rate. "
   ]
  },
  {
   "cell_type": "code",
   "execution_count": 26,
   "metadata": {
    "scrolled": false
   },
   "outputs": [
    {
     "data": {
      "image/png": "[encoded data removed]",
      "text/plain": [
       "<Figure size 720x720 with 1 Axes>"
      ]
     },
     "metadata": {
      "needs_background": "light"
     },
     "output_type": "display_data"
    }
   ],
   "source": [
    "sns.distplot(100*prior_checks[\"late_payment_rate\"], kde=False, norm_hist=True, bins=100)\n",
    "plt.xlabel('Percentage of Payments with late payment (%)')\n",
    "plt.show()"
   ]
  },
  {
   "cell_type": "markdown",
   "metadata": {},
   "source": [
    "From this chart, we can see that there is a high *likelyhood* that the value of this parameter is between 2 and 14%.\n",
    "\n",
    "Infact, we can find there is a 94% chance it's between 1.9%\tand 9.8% using PyMC3's summary function."
   ]
  },
  {
   "cell_type": "code",
   "execution_count": 24,
   "metadata": {},
   "outputs": [
    {
     "name": "stderr",
     "output_type": "stream",
     "text": [
      "arviz.stats.stats_utils - WARNING - Shape validation failed: input_shape: (1, 50000), minimum_shape: (chains=2, draws=4)\n"
     ]
    },
    {
     "data": {
      "text/html": [
       "<div>\n",
       "<style scoped>\n",
       "    .dataframe tbody tr th:only-of-type {\n",
       "        vertical-align: middle;\n",
       "    }\n",
       "\n",
       "    .dataframe tbody tr th {\n",
       "        vertical-align: top;\n",
       "    }\n",
       "\n",
       "    .dataframe thead th {\n",
       "        text-align: right;\n",
       "    }\n",
       "</style>\n",
       "<table border=\"1\" class=\"dataframe\">\n",
       "  <thead>\n",
       "    <tr style=\"text-align: right;\">\n",
       "      <th></th>\n",
       "      <th>mean</th>\n",
       "      <th>sd</th>\n",
       "      <th>hpd_3%</th>\n",
       "      <th>hpd_97%</th>\n",
       "      <th>mcse_mean</th>\n",
       "      <th>mcse_sd</th>\n",
       "      <th>ess_mean</th>\n",
       "      <th>ess_sd</th>\n",
       "      <th>ess_bulk</th>\n",
       "      <th>ess_tail</th>\n",
       "      <th>r_hat</th>\n",
       "    </tr>\n",
       "  </thead>\n",
       "  <tbody>\n",
       "    <tr>\n",
       "      <th>x</th>\n",
       "      <td>0.043</td>\n",
       "      <td>0.025</td>\n",
       "      <td>0.019</td>\n",
       "      <td>0.097</td>\n",
       "      <td>0.0</td>\n",
       "      <td>0.0</td>\n",
       "      <td>48586.0</td>\n",
       "      <td>47975.0</td>\n",
       "      <td>49350.0</td>\n",
       "      <td>46251.0</td>\n",
       "      <td>NaN</td>\n",
       "    </tr>\n",
       "  </tbody>\n",
       "</table>\n",
       "</div>"
      ],
      "text/plain": [
       "    mean     sd  hpd_3%  hpd_97%  mcse_mean  mcse_sd  ess_mean   ess_sd  \\\n",
       "x  0.043  0.025   0.019    0.097        0.0      0.0   48586.0  47975.0   \n",
       "\n",
       "   ess_bulk  ess_tail  r_hat  \n",
       "x   49350.0   46251.0    NaN  "
      ]
     },
     "execution_count": 24,
     "metadata": {},
     "output_type": "execute_result"
    }
   ],
   "source": [
    "pm.summary(prior_checks['late_payment_rate'])"
   ]
  },
  {
   "cell_type": "markdown",
   "metadata": {},
   "source": [
    "## Conclusion\n",
    "Based on the assumptions we made, we can get a high level understanding of how common it is for *Afterpay* customers to be late in payment. Based on our model, and assumptions, it's approximately 4.3% of the time.\n",
    "\n",
    "For example, an implicit assumption is that all payments are the same size. Another implicit assumption is that the average late fee is uniformly distributed between 10 AUD and 68 AUD.\n",
    "\n",
    "In future posts, I want to further refine the model, to improve our confidence that we have found the right answer."
   ]
  }
 ],
 "metadata": {
  "kernelspec": {
   "display_name": "PyMC3",
   "language": "python",
   "name": "pymc3"
  },
  "language_info": {
   "codemirror_mode": {
    "name": "ipython",
    "version": 3
   },
   "file_extension": ".py",
   "mimetype": "text/x-python",
   "name": "python",
   "nbconvert_exporter": "python",
   "pygments_lexer": "ipython3",
   "version": "3.7.7"
  }
 },
 "nbformat": 4,
 "nbformat_minor": 2
}
