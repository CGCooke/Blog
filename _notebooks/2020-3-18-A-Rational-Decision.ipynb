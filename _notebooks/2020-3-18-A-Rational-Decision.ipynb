{
 "cells": [
  {
   "cell_type": "markdown",
   "metadata": {},
   "source": [
    "# The Grounding\n",
    "> Understand the impact of the grounding on Qantas \n",
    "- toc: true \n",
    "- badges: true\n",
    "- comments: true\n",
    "- categories: [QANTAS, Aviation, Finance]"
   ]
  },
  {
   "cell_type": "markdown",
   "metadata": {},
   "source": [
    "This wasn't the centenary anyone had hoped for Qantas. It's fair to say that this one of the most challenging periods in the companys history. \n",
    "\n",
    "The decision to ground the international fleet, and the majority of the domestic fleet is not a light one, with clear and immediate impacts on the livelyhoods of 20,000 employees. \n",
    "\n",
    "The airline business is complex and challenging, "
   ]
  }
 ],
 "metadata": {
  "kernelspec": {
   "display_name": "PyMC3",
   "language": "python",
   "name": "pymc3"
  },
  "language_info": {
   "codemirror_mode": {
    "name": "ipython",
    "version": 3
   },
   "file_extension": ".py",
   "mimetype": "text/x-python",
   "name": "python",
   "nbconvert_exporter": "python",
   "pygments_lexer": "ipython3",
   "version": "3.7.6"
  }
 },
 "nbformat": 4,
 "nbformat_minor": 2
}
