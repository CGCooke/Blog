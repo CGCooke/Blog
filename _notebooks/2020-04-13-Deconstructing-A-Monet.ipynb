{
 "cells": [
  {
   "cell_type": "markdown",
   "metadata": {},
   "source": [
    "# Deconstructing a Monet\n",
    "> While Normandy is only 800km away, the past is a foreign country. \n",
    "\n",
    "- toc: true \n",
    "- badges: true\n",
    "- comments: true\n",
    "- categories: [Computer Vision,Linear Algebra]\n",
    "- image: images/2020-04-13-Deconstructing-A-Monet/header.jpg"
   ]
  },
  {
   "cell_type": "markdown",
   "metadata": {},
   "source": [
    "![](../images/2020-04-13-Deconstructing-A-Monet/Monet_-_Sonnenaufgang_bei_Etretat.jpg)\n",
    "\n",
    "## An introduction\n",
    "\n",
    "Let's go on an adventure, and try and answer some questions from an incredible painting by Claude Monet called [The Cliff, Étretat, Sunset](https://learn.ncartmuseum.org/artwork/the-cliff-etretat-sunset/).\n",
    "\n",
    "In particular, I'm interested if we can work out:\n",
    "\n",
    "1. Where it was painted.\n",
    "2. When it was painted.\n",
    "\n",
    "These questions are by no means new, they were addressed by [Don Olson](https://www.smithsonianmag.com/arts-culture/forensic-astronomer-solves-fine-arts-puzzles-116770403) and his [team](https://www.txstate.edu/news/news_releases/news_archive/2014/January-2014/Olson012114.html) from Texas State University].\n",
    "\n",
    "\n",
    "However I think it's an interesting exercise, and one that we can learn from, and help us think about some important matehmatical concepts from a new perspective. \n",
    "\n",
    "What do we truly know? After all, we are trying to mathematically analyze a painting by possibly the most famous impressionlist artist in history. \n",
    "\n",
    "\n",
    "## Gathering what we know\n",
    "\n",
    "\n",
    "Let's start by collecting some pieces of infomrmation that we know.\n",
    "\n",
    "Looking at the painting, I notice a few useful features.\n",
    "\n",
    "1. The sun\n",
    "2. A distinctive rock pinicle.\n",
    "3. The horizon\n",
    "\n",
    "Let's look at each of these in isolation.\n",
    "\n",
    "![Measuements on the The Cliff, Étretat, Sunset](../images/2020-04-13-Deconstructing-A-Monet/Measurements.jpg)\n",
    "\n",
    "\n",
    "### The Sun\n",
    "\n",
    "Let's start with some facts:\n",
    "\n",
    "* The sun has a radius of $6.96\\times 10^8$ m\n",
    "* The sun is $1.5\\times 10^{11}$ m from earth.\n",
    "\n",
    "In the image of the painting, it occupies a bounding box limited by:\n",
    "* x1,y1 = 4180px, 1973px\n",
    "* x2,y2 = 4330px, 2115px"
   ]
  },
  {
   "cell_type": "markdown",
   "metadata": {},
   "source": [
    "I.e. it has a radius of ±73 pixels. \n",
    "\n",
    "Let's pause for a moment, and make a critical assumption, that it was painted with perspecrtive. \n",
    "\n",
    "Other works by Monet clearly have perspective, which we can directly measure, for example *The Railway Bridge at Argenteuil* which we can see below.\n",
    "\n",
    "![The Railway Bridge at Argenteuil](../images/2020-04-13-Deconstructing-A-Monet/The_Railway_Bridge_at_Argenteuil.jpg)"
   ]
  },
  {
   "cell_type": "markdown",
   "metadata": {},
   "source": [
    "If we work with this assumption, we can proceed to work out the \"focal length\" of the painting in pixels.\n",
    "\n",
    "\n",
    "![Image Triangle](../images/2020-04-13-Deconstructing-A-Monet/Triangle.jpg)\n",
    "\n",
    "From this, we can see that \n",
    "\n",
    "\n",
    "$\\frac{R_{sun}}{D_{sun}} = \\frac{r_{pixels}} {f_{pixels}}$\n",
    "\n",
    "or \n",
    "\n",
    "$ f_{pixels} = \\frac{r_{pixels}}{(\\frac{R_{sun}}{D_{sun}})}$"
   ]
  },
  {
   "cell_type": "code",
   "execution_count": null,
   "metadata": {},
   "outputs": [],
   "source": [
    "R_sun = 6.96* 10**8 \n",
    "D_sun = 1.5*10**11\n",
    "r_pixels = 73\n",
    "f_pixels = (r_pixels/(R_sun/D_sun))\n",
    "print(int(f_pixels))\n"
   ]
  },
  {
   "cell_type": "markdown",
   "metadata": {},
   "source": [
    "$ f_{pixels} = 15.7 \\times 10^3$"
   ]
  },
  {
   "cell_type": "markdown",
   "metadata": {},
   "source": [
    "### A distinctive rock pinicle.\n",
    "    \n",
    "\n",
    "Height of the pinicle{% fn 1 %}: \n",
    "* Low tide = 54.5m\n",
    "* High tide = 46.0m \n",
    "* Avg = 50.25m \n",
    "\n",
    "In the image, we see that:\n",
    "* Pinicle Peak = 1423 px\n",
    "* Pinicle Base = 2486 px\n",
    "* Pinicle Height = 1063 px\n",
    "\n",
    "\n",
    "Using the same geometric argument from before, we see that:\n",
    "\n",
    "$\\frac{R_{pinicle}}{D_{pinicle}} = \\frac{r_{pixels}} {f_{pixels}}$\n",
    "\n",
    "$D_{pinicle} = \\frac{R_{pinicle}}{(\\frac{r_{pixels}} {f_{pixels}})}$\n"
   ]
  },
  {
   "cell_type": "code",
   "execution_count": null,
   "metadata": {},
   "outputs": [],
   "source": [
    "R_pinicle = 50.25\n",
    "r_pixels = 1063\n",
    "D_pinicle = int(R_pinicle/(r_pixels / (f_pixels)))\n",
    "\n",
    "print(D_pinicle)"
   ]
  },
  {
   "cell_type": "markdown",
   "metadata": {},
   "source": [
    "So assuming the pinicle is approximately 743m from the painter. "
   ]
  },
  {
   "cell_type": "markdown",
   "metadata": {},
   "source": [
    "### The Horizon\n",
    "\n",
    "Let's look at the last point we can clearly measure in the painting, the horizon line.\n",
    "\n",
    "The distance $d$ to the horizon is:\n",
    "${\\displaystyle d\\approx {\\sqrt {2\\,h\\,r}}\\,}$\n",
    "\n",
    "Where:\n",
    "* $r$ is the radius of the earth ($6,371 \\times 10^3$m)\n",
    "* $h$ is the height of the observer\n",
    "\n",
    "Assuming that $h$ is at least 2m, then the distance to the horizon is at least 5km.\n",
    "\n",
    "\n",
    "![Horizon Triangle](../images/2020-04-13-Deconstructing-A-Monet/Horizon.jpg)"
   ]
  },
  {
   "cell_type": "markdown",
   "metadata": {},
   "source": [
    "horizon = 2350\n",
    "\n",
    "r_intersection = 136"
   ]
  },
  {
   "cell_type": "markdown",
   "metadata": {},
   "source": [
    "\n",
    "\n",
    "\n",
    "2486 - 2350\n",
    "\n",
    "\n",
    "\n",
    "\n",
    "\n",
    "\n",
    "\n",
    "\n",
    "## Broad Brushstrokes\n",
    "\n",
    "\n",
    "\n",
    "## Putting it all together"
   ]
  },
  {
   "cell_type": "code",
   "execution_count": null,
   "metadata": {},
   "outputs": [],
   "source": []
  },
  {
   "cell_type": "markdown",
   "metadata": {},
   "source": []
  },
  {
   "cell_type": "code",
   "execution_count": null,
   "metadata": {},
   "outputs": [],
   "source": []
  },
  {
   "cell_type": "code",
   "execution_count": null,
   "metadata": {},
   "outputs": [],
   "source": []
  },
  {
   "cell_type": "markdown",
   "metadata": {},
   "source": [
    "{{ '\"Several early guidebooks gave the Needle a height of 225 feet (69 meters) or 230 feet (70 meters), exaggerated values adopted by the majority of recent authors.\n",
    "\n",
    "Our results showed that even near low tide the top of the Needle stands only about 179 feet (54.5 meters) above the exposed base. \n",
    "\n",
    "When the highest possible tides occur, 151 feet (46 meters) of the Needle remain visible above the waves. \n",
    "\n",
    "This photograph shows a view from the Jambourg beach near low tide, with the high-water mark clearly visible on the Needle about 28 feet (8.5 meters) above the exposed base.\"' | fndetail: 1 }}"
   ]
  },
  {
   "cell_type": "code",
   "execution_count": null,
   "metadata": {},
   "outputs": [],
   "source": []
  }
 ],
 "metadata": {
  "kernelspec": {
   "display_name": "CVBook",
   "language": "python",
   "name": "cvbook"
  },
  "language_info": {
   "codemirror_mode": {
    "name": "ipython",
    "version": 3
   },
   "file_extension": ".py",
   "mimetype": "text/x-python",
   "name": "python",
   "nbconvert_exporter": "python",
   "pygments_lexer": "ipython3",
   "version": "3.7.6"
  }
 },
 "nbformat": 4,
 "nbformat_minor": 2
}
