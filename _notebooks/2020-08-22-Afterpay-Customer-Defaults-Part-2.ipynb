{
 "cells": [
  {
   "cell_type": "markdown",
   "metadata": {},
   "source": [
    "# What does an customer default with Afterpay look like ?\n",
    "> Let's take a high level view of what an aveage default looks like, based on Afterpay's FY2019 Annual report.\n",
    "\n",
    "- toc: true \n",
    "- badges: true\n",
    "- comments: true\n",
    "- categories: [Bayesian,Finance]\n",
    "    \n",
    "- image: images/2020-08-21-Afterpay-Customer-Defaults-Part-1/header.jpg"
   ]
  },
  {
   "cell_type": "markdown",
   "metadata": {},
   "source": [
    "## Introduction\n",
    "\n",
    "From the [previous post](https://cgcooke.github.io/Blog/bayesian/finance/2020/08/21/Afterpay-Customer-Defaults-Part-1.html), I made some high level estimates for how often *Afterpay* transactions attracted late fees. If we could better understand the real distribution of late fees, then we could in turn better estimate the frequency of late fees.\n",
    "\n",
    "\n",
    "> Important:  Obviously I need a disclaimer. If you use anything I say as the basis for any decision, financial or otherwise, you are an idiot.\n",
    "\n",
    "\n",
    "## What do we know?\n",
    "\n",
    "* Late Fees Revenue : 46.1 million AUD\n",
    "* Average Transaction Value : Approximately 150 AUD\n",
    "   \n",
    "Furthermore, we know that the lowest and highest fee that you can be charged for a single transaction is 10 AUD and 68 AUD. Hence, this in turn bounds the average of the late fees.\n",
    "\n",
    "\n",
    "*Afterpay* is pretty transparent about their late fees, I've taken the following from [here](https://www.afterpay.com/en-AU/terms-of-service#:~:text=If%20a%20payment%20is%20not,may%20be%20applied%20per%20order.).\n",
    "\n",
    "![Afterpay late fees policy](../images/2020-08-22-Afterpay-Customer-Defaults-Part-2/late_fees.png)\n",
    "\n",
    "\n",
    "We can model this policy out in code, keeping in mind that the customer pays *Afterpay* 4 separate times.\n",
    "\n",
    "There are some pieces of information that we are missing.\n",
    "\n",
    "1. The distribution of values for transactions where customers pay late.\n",
    "2. How late they make each payment.\n",
    "\n",
    "It's at this stage, we have to accept that we probably can't find an exact solution, but we can settle for a good approximation.\n",
    "\n",
    "On assumption we could make is that the number of late payments is uncorrelated with the transaction value, and is uniformly distributed, both for delays of less than, and more than 1 week.\n",
    "\n",
    "## Computing late fees"
   ]
  },
  {
   "cell_type": "code",
   "execution_count": 1,
   "metadata": {},
   "outputs": [],
   "source": [
    "import random\n",
    "\n",
    "def compute_late_fee(transaction_value,probability_of_late_payment = 0.5):\n",
    "    total_fees = 0\n",
    "    \n",
    "    number_of_delays_of_less_than_1_week = 1 + np.random.binomial(3,probability_of_late_payment,1)[0]\n",
    "    \n",
    "    if number_of_delays_of_less_than_1_week > 0:\n",
    "        number_of_delays_of_more_than_1_week = np.random.binomial(number_of_delays_of_less_than_1_week,probability_of_late_payment,1)[0]\n",
    "    \n",
    "    total_fees = 10 * number_of_delays_of_less_than_1_week + 7 * number_of_delays_of_more_than_1_week\n",
    "    late_fee = min([total_fees,0.25*transaction_value])\n",
    "    late_fee = max([late_fee,10])\n",
    "    return(late_fee)\n"
   ]
  },
  {
   "cell_type": "code",
   "execution_count": 2,
   "metadata": {},
   "outputs": [],
   "source": [
    "%matplotlib inline\n",
    "import pymc3 as pm\n",
    "import matplotlib.pyplot as plt\n",
    "import numpy as np\n",
    "import math\n",
    "import seaborn as sns\n",
    "\n",
    "plt.rcParams[\"figure.figsize\"] = (10,10)\n",
    "from warnings import filterwarnings\n",
    "filterwarnings('ignore')"
   ]
  },
  {
   "cell_type": "markdown",
   "metadata": {},
   "source": [
    "## Modelling transaction values\n",
    "\n",
    "Let's model the transaction values. \n",
    "\n",
    "I'm making two assumption:\n",
    "\n",
    "1. Transactions where the customer is late in paying, have the same average transaction value as other payments.\n",
    "2. Transaction values are Exponentially distributed."
   ]
  },
  {
   "cell_type": "code",
   "execution_count": 3,
   "metadata": {},
   "outputs": [],
   "source": [
    "with pm.Model() as model:\n",
    "    average_transaction_value_aud = pm.Uniform('average_transaction_value_aud', lower=144.50, upper=154.49)\n",
    "    transaction_value_aud = pm.Bound(pm.Exponential, upper=1_500.0)('transaction_value_aud', lam = 1/average_transaction_value_aud)"
   ]
  },
  {
   "cell_type": "markdown",
   "metadata": {},
   "source": [
    "Now that we have instantiated all of the random variables, we will take 50,000 draws from them, in order to perform our *Monte carlo* simulation."
   ]
  },
  {
   "cell_type": "code",
   "execution_count": 4,
   "metadata": {},
   "outputs": [],
   "source": [
    "with model:\n",
    "    prior_checks = pm.sample_prior_predictive(samples=50_000, random_seed=0)"
   ]
  },
  {
   "cell_type": "code",
   "execution_count": 5,
   "metadata": {
    "scrolled": false
   },
   "outputs": [
    {
     "data": {
      "image/png": "[encoded data removed]",
      "text/plain": [
       "<Figure size 720x720 with 1 Axes>"
      ]
     },
     "metadata": {
      "needs_background": "light"
     },
     "output_type": "display_data"
    }
   ],
   "source": [
    "sns.distplot(prior_checks[\"transaction_value_aud\"], kde=False, norm_hist=True, bins=100)\n",
    "plt.title('Histogram of transaction values')\n",
    "plt.xlabel('Transaction value')\n",
    "plt.show()"
   ]
  },
  {
   "cell_type": "markdown",
   "metadata": {},
   "source": [
    "As we can see, this distribution has a mean of approximately 150 AUD."
   ]
  },
  {
   "cell_type": "code",
   "execution_count": 6,
   "metadata": {},
   "outputs": [
    {
     "name": "stderr",
     "output_type": "stream",
     "text": [
      "arviz.stats.stats_utils - WARNING - Shape validation failed: input_shape: (1, 50000), minimum_shape: (chains=2, draws=4)\n"
     ]
    },
    {
     "data": {
      "text/html": [
       "<div>\n",
       "<style scoped>\n",
       "    .dataframe tbody tr th:only-of-type {\n",
       "        vertical-align: middle;\n",
       "    }\n",
       "\n",
       "    .dataframe tbody tr th {\n",
       "        vertical-align: top;\n",
       "    }\n",
       "\n",
       "    .dataframe thead th {\n",
       "        text-align: right;\n",
       "    }\n",
       "</style>\n",
       "<table border=\"1\" class=\"dataframe\">\n",
       "  <thead>\n",
       "    <tr style=\"text-align: right;\">\n",
       "      <th></th>\n",
       "      <th>mean</th>\n",
       "      <th>sd</th>\n",
       "      <th>hpd_3%</th>\n",
       "      <th>hpd_97%</th>\n",
       "      <th>mcse_mean</th>\n",
       "      <th>mcse_sd</th>\n",
       "      <th>ess_mean</th>\n",
       "      <th>ess_sd</th>\n",
       "      <th>ess_bulk</th>\n",
       "      <th>ess_tail</th>\n",
       "      <th>r_hat</th>\n",
       "    </tr>\n",
       "  </thead>\n",
       "  <tbody>\n",
       "    <tr>\n",
       "      <th>x</th>\n",
       "      <td>150.103</td>\n",
       "      <td>150.269</td>\n",
       "      <td>0.0</td>\n",
       "      <td>422.672</td>\n",
       "      <td>0.675</td>\n",
       "      <td>0.477</td>\n",
       "      <td>49547.0</td>\n",
       "      <td>49547.0</td>\n",
       "      <td>49322.0</td>\n",
       "      <td>49878.0</td>\n",
       "      <td>NaN</td>\n",
       "    </tr>\n",
       "  </tbody>\n",
       "</table>\n",
       "</div>"
      ],
      "text/plain": [
       "      mean       sd  hpd_3%  hpd_97%  mcse_mean  mcse_sd  ess_mean   ess_sd  \\\n",
       "x  150.103  150.269     0.0  422.672      0.675    0.477   49547.0  49547.0   \n",
       "\n",
       "   ess_bulk  ess_tail  r_hat  \n",
       "x   49322.0   49878.0    NaN  "
      ]
     },
     "execution_count": 6,
     "metadata": {},
     "output_type": "execute_result"
    }
   ],
   "source": [
    "pm.summary(prior_checks['transaction_value_aud'])"
   ]
  },
  {
   "cell_type": "markdown",
   "metadata": {},
   "source": [
    "## Modelling late fees"
   ]
  },
  {
   "cell_type": "code",
   "execution_count": 7,
   "metadata": {},
   "outputs": [],
   "source": [
    "late_fees = []\n",
    "for transaction_value in prior_checks[\"transaction_value_aud\"]:\n",
    "    late_fee = compute_late_fee(transaction_value)\n",
    "    late_fees.append(late_fee)\n",
    "late_fees = np.array(late_fees)"
   ]
  },
  {
   "cell_type": "code",
   "execution_count": 8,
   "metadata": {},
   "outputs": [
    {
     "data": {
      "image/png": "[encoded data removed]",
      "text/plain": [
       "<Figure size 720x720 with 1 Axes>"
      ]
     },
     "metadata": {
      "needs_background": "light"
     },
     "output_type": "display_data"
    }
   ],
   "source": [
    "sns.distplot(late_fees, kde=False, norm_hist=True, bins=np.arange(10,70,1))\n",
    "plt.xlabel('Average Late Fee (AUD)')\n",
    "plt.show()"
   ]
  },
  {
   "cell_type": "code",
   "execution_count": 9,
   "metadata": {},
   "outputs": [
    {
     "name": "stderr",
     "output_type": "stream",
     "text": [
      "arviz.stats.stats_utils - WARNING - Shape validation failed: input_shape: (1, 50000), minimum_shape: (chains=2, draws=4)\n"
     ]
    },
    {
     "data": {
      "text/html": [
       "<div>\n",
       "<style scoped>\n",
       "    .dataframe tbody tr th:only-of-type {\n",
       "        vertical-align: middle;\n",
       "    }\n",
       "\n",
       "    .dataframe tbody tr th {\n",
       "        vertical-align: top;\n",
       "    }\n",
       "\n",
       "    .dataframe thead th {\n",
       "        text-align: right;\n",
       "    }\n",
       "</style>\n",
       "<table border=\"1\" class=\"dataframe\">\n",
       "  <thead>\n",
       "    <tr style=\"text-align: right;\">\n",
       "      <th></th>\n",
       "      <th>mean</th>\n",
       "      <th>sd</th>\n",
       "      <th>hpd_3%</th>\n",
       "      <th>hpd_97%</th>\n",
       "      <th>mcse_mean</th>\n",
       "      <th>mcse_sd</th>\n",
       "      <th>ess_mean</th>\n",
       "      <th>ess_sd</th>\n",
       "      <th>ess_bulk</th>\n",
       "      <th>ess_tail</th>\n",
       "      <th>r_hat</th>\n",
       "    </tr>\n",
       "  </thead>\n",
       "  <tbody>\n",
       "    <tr>\n",
       "      <th>x</th>\n",
       "      <td>22.585</td>\n",
       "      <td>12.514</td>\n",
       "      <td>10.0</td>\n",
       "      <td>44.0</td>\n",
       "      <td>0.056</td>\n",
       "      <td>0.04</td>\n",
       "      <td>49161.0</td>\n",
       "      <td>49161.0</td>\n",
       "      <td>48824.0</td>\n",
       "      <td>49670.0</td>\n",
       "      <td>NaN</td>\n",
       "    </tr>\n",
       "  </tbody>\n",
       "</table>\n",
       "</div>"
      ],
      "text/plain": [
       "     mean      sd  hpd_3%  hpd_97%  mcse_mean  mcse_sd  ess_mean   ess_sd  \\\n",
       "x  22.585  12.514    10.0     44.0      0.056     0.04   49161.0  49161.0   \n",
       "\n",
       "   ess_bulk  ess_tail  r_hat  \n",
       "x   48824.0   49670.0    NaN  "
      ]
     },
     "execution_count": 9,
     "metadata": {},
     "output_type": "execute_result"
    }
   ],
   "source": [
    "pm.summary(late_fees)"
   ]
  },
  {
   "cell_type": "markdown",
   "metadata": {},
   "source": [
    "## Conclusion\n",
    "\n",
    "We now have the ability to compute the expected average late fee, given a distribution of transaction values, and a probability of making each payment on time.  In our case, we found the average late fee was 37.49 AUD. \n",
    "\n",
    "However, I don't think we can really conclude anything meaningful, from just a single distribution of transaction values and a single probability of making each payment on time. \n",
    "\n",
    "Given this, we can try lots of different distributions, and use this to find the distribution of average late fees that we could see. Next post, I will make the way I do the sampling more computationally efficient. This will allow us to draw some meaningful conclusions. \n",
    "\n",
    "\n",
    "\n"
   ]
  },
  {
   "cell_type": "code",
   "execution_count": null,
   "metadata": {},
   "outputs": [],
   "source": []
  }
 ],
 "metadata": {
  "kernelspec": {
   "display_name": "PyMC3",
   "language": "python",
   "name": "pymc3"
  },
  "language_info": {
   "codemirror_mode": {
    "name": "ipython",
    "version": 3
   },
   "file_extension": ".py",
   "mimetype": "text/x-python",
   "name": "python",
   "nbconvert_exporter": "python",
   "pygments_lexer": "ipython3",
   "version": "3.7.7"
  }
 },
 "nbformat": 4,
 "nbformat_minor": 2
}
