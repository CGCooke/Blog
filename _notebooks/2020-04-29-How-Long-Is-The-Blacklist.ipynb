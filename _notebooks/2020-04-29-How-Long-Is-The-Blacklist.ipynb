{
 "cells": [
  {
   "cell_type": "markdown",
   "metadata": {},
   "source": [
    "# How long is the blacklist?\n",
    "> A Bayesian approach\n",
    "\n",
    "- toc: true \n",
    "- badges: true\n",
    "- comments: true\n",
    "- categories: [Bayesian]\n",
    "- image: images/2020-03-13-RQ-Decomposition-In-Practice/header.jpg\n"
   ]
  },
  {
   "cell_type": "markdown",
   "metadata": {},
   "source": [
    "## Overview\n",
    "\n",
    "I'm in the process of learning French, and as part of my language learning journey, I'm slowly working my way through *The Blacklist* on Netflix. \n",
    "\n",
    "The premise of the show involves an antihero played James Spader working his way through a list of neferious characters, taking them down one at a time.\n",
    "\n",
    "Out of idle intellectual curiousity, I was curious about how many names are on the list, based on the sample of names that are given. It's actually an interesting problem we can solve using Bayesian analysis, more commonly known as the \"German Tank Problem\", or the \"Locomotive Problem\".\n",
    "\n",
    "Fortunately Wikipedia provides us the data we need to help answer this question.\n",
    "\n",
    "[R1](https://www.isaacslavitt.com/2015/12/19/german-tank-problem-with-pymc-and-pystan/)"
   ]
  },
  {
   "cell_type": "markdown",
   "metadata": {},
   "source": [
    "| No. overall | No. in season | Title                      | Blacklist guide | Directed by       | Written by                                                                                            | Original air date  | US viewers(millions) |\n",
    "|------------|--------------|----------------------------|----------------|-------------------|-------------------------------------------------------------------------------------------------------|--------------------|----------------------|\n",
    "| 1          | 1            | \"Pilot\"                    | No. 52         | Joe Carnahan      | Jon Bokenkamp                                                                                         | September 23, 2013 | 12.58[10]            |\n",
    "| 2          | 2            | \"The Freelancer\"           | No. 145        | Jace Alexander    | Jon Bokenkamp                                                                                         | September 30, 2013 | 11.35[11]            |\n",
    "| 3          | 3            | \"Wujing\"                   | No. 84         | Michael Watkins   | Lukas Reiter                                                                                          | October 7, 2013    | 11.18[12]            |\n",
    "| 4          | 4            | \"The Stewmaker\"            | No. 161        | Vince Misiano     | Patrick Massett & John Zinman                                                                         | October 14, 2013   | 10.93[13]            |\n",
    "| 5          | 5            | \"The Courier\"              | No. 85         | Nick Gomez        | John C. Kelley                                                                                        | October 21, 2013   | 10.44[14]            |\n",
    "| 6          | 6            | \"Gina Zanetakos\"           | No. 152        | Adam Arkin        | Wendy West                                                                                            | October 28, 2013   | 10.51[15]            |\n",
    "| 7          | 7            | \"Frederick Barnes\"         | No. 47         | Michael Watkins   | J. R. Orci                                                                                            | November 4, 2013   | 10.34[16]            |\n",
    "| 8          | 8            | \"General Ludd\"             | No. 109        | Stephen Surjik    | Amanda Kate Shuman                                                                                    | November 11, 2013  | 10.69[17]            |\n",
    "| 9          | 9            | \"Anslo Garrick\"            | No. 16         | Joe Carnahan      | Story by : Joe Carnahan & Jason George Teleplay by : Joe Carnahan                                     | November 25, 2013  | 10.96[18]            |\n",
    "| 10         | 10           | \"Anslo Garrick Conclusion\" | No. 16         | Michael Watkins   | Lukas Reiter & J. R. Orci                                                                             | December 2, 2013   | 11.67[19]            |\n",
    "| 11         | 11           | \"The Good Samaritan\"       | No. 106        | Dan Lerner        | Brandon Margolis & Brandon Sonnier                                                                    | January 13, 2014   | 9.35[20]             |\n",
    "| 12         | 12           | \"The Alchemist\"            | No. 101        | Vince Misiano     | Anthony Sparks                                                                                        | January 20, 2014   | 8.83[21]             |\n",
    "| 13         | 13           | \"The Cyprus Agency\"        | No. 64         | Michael Watkins   | Lukas Reiter                                                                                          | January 27, 2014   | 10.17[22]            |\n",
    "| 14         | 14           | \"Madeline Pratt\"           | No. 73         | Michael Zinberg   | Jim Campolongo                                                                                        | February 24, 2014  | 11.18[23]            |\n",
    "| 15         | 15           | \"The Judge\"                | No. 57         | Peter Werner      | Jonathan Shapiro & Lukas Reiter                                                                       | March 3, 2014      | 11.01[24]            |\n",
    "| 16         | 16           | \"Mako Tanida\"              | No. 83         | Michael Watkins   | Story by : Joe Carnahan Teleplay by : John Eisendrath & Jon Bokenkamp & Patrick Massett & John Zinman | March 17, 2014     | 10.97[25]            |\n",
    "| 17         | 17           | \"Ivan\"                     | No. 88         | Randy Zisk        | J.R. Orci & Amanda Kate Shuman                                                                        | March 24, 2014     | 10.80[26]            |\n",
    "| 18         | 18           | \"Milton Bobbit\"            | No. 135        | Steven A. Adelson | Daniel Voll                                                                                           | March 31, 2014     | 11.39[27]            |\n",
    "| 19         | 19           | \"The Pavlovich Brothers\"   | Nos. 119-122   | Paul Edwards      | Elizabeth Benjamin                                                                                    | April 21, 2014     | 11.24[28]            |\n",
    "| 20         | 20           | \"The Kingmaker\"            | No. 42         | Karen Gaviola     | J. R. Orci & Lukas Reiter                                                                             | April 28, 2014     | 10.85[29]            |\n",
    "| 21         | 21           | \"Berlin\"                   | No. 8          | Michael Zinberg   | John Eisendrath & Jon Bokenkamp                                                                       | May 5, 2014        | 10.47[30]            |\n",
    "| 22         | 22           | \"Berlin Conclusion\"        | No. 8          | Michael Watkins   | Story by : Richard D'Ovidio Teleplay by : John Eisendrath & Jon Bokenkamp & Lukas Reiter & J. R. Orci | May 12, 2014       | 10.44[31]            |"
   ]
  },
  {
   "cell_type": "code",
   "execution_count": 2,
   "metadata": {},
   "outputs": [],
   "source": [
    "import numpy as np\n",
    "import matplotlib.pyplot as plt\n",
    "import pandas as pd\n"
   ]
  },
  {
   "cell_type": "code",
   "execution_count": null,
   "metadata": {},
   "outputs": [],
   "source": []
  },
  {
   "cell_type": "markdown",
   "metadata": {},
   "source": [
    "So, we have: $P = [M | −MC]$\n",
    "\n",
    "M can be decomposed as $M=KR$ using the RQ decomposition.\n",
    "\n",
    "```python\n",
    "M = P[0:3,0:3]\n",
    "K, R = linalg.rq(M)\n",
    "```\n",
    "\n",
    "So far, so good.\n",
    "\n",
    "Now things get a little more complex. \n",
    "\n",
    "We want to find a Camera matrix with a positive diagonal, giving positive focal lengths.\n",
    "\n",
    "However, in case this doesn't happen, we can adjust the sign of the column of each column of both the $K$ and $R$ matrix, to \"Make it so\".\n",
    "\n",
    "\n",
    "\n",
    "```python\n",
    "T = np.diag(np.sign(np.diag(K)))\n",
    "if linalg.det(T) < 0:\n",
    "    T[1,1] *= -1\n",
    "\n",
    "K = np.dot(K,T)\n",
    "R = np.dot(T,R)\n",
    "```\n"
   ]
  },
  {
   "cell_type": "code",
   "execution_count": 28,
   "metadata": {},
   "outputs": [
    {
     "name": "stdout",
     "output_type": "stream",
     "text": [
      "149\n"
     ]
    },
    {
     "name": "stderr",
     "output_type": "stream",
     "text": [
      "Multiprocess sampling (2 chains in 2 jobs)\n",
      "Metropolis: [N]\n",
      "Sampling 2 chains, 0 divergences: 100%|██████████| 201000/201000 [00:22<00:00, 9126.36draws/s]\n",
      "The number of effective samples is smaller than 10% for some parameters.\n"
     ]
    }
   ],
   "source": [
    "import pymc3 as pm\n",
    "\n",
    "# D: the data\n",
    "y = np.array([52, 145, 84, 161, 85, 152,\n",
    "       47, 109, 16, 16, 106, 101,\n",
    "       64, 73, 57, 83, 88, 135,\n",
    "       119,120,121, 122, 42, 8, 8, 104, 112,\n",
    "       89, 82, 74, 114, 22, 12,\n",
    "       21, 21, 67, 71, 93, 94,\n",
    "       75, 7, 97, 117, 62, 87,\n",
    "       55, 11, 38, 80, 72, 43,\n",
    "       50, 86, 31, 108, 24, 24,\n",
    "       95, 132, 103, 77, 113, 78,\n",
    "       32, 32, 41, 18, 14, 14,\n",
    "       79, 66, 65, 81, 105, 53,\n",
    "       98, 98, 111, 163, 102, 184,\n",
    "       34, 107, 59, 10, 61, 29,\n",
    "       46, 4, 4, 30, 37, 76, 44,\n",
    "       54, 90, 48, 13, 118, 100,\n",
    "       56, 63, 51, 68, 19, 25,\n",
    "       23, 13, 110, 26, 17, 33,\n",
    "       20, 124, 146, 147, 131, 91, 116,\n",
    "       58, 99, 160, 20, 20, 9,\n",
    "        6, 115, 69, 136, 92, 128,\n",
    "       60, 15, 27, 27, 151, 138,\n",
    "       130, 125, 162, 159, 3, 137,\n",
    "       155, 144, 126, 158, 149,\n",
    "       150])\n",
    "\n",
    "\n",
    "#y = y[0:5]\n",
    "\n",
    "model = pm.Model()\n",
    "with model:\n",
    "    # prior - P(N): N ~ uniform(max(y), 500)\n",
    "    # note: we use a large-ish number for the upper bound\n",
    "    N = pm.DiscreteUniform(\"N\", lower=y.max(), upper=500)\n",
    "\n",
    "    # likelihood - P(D|N): y ~ uniform(0, N)\n",
    "    y_obs = pm.DiscreteUniform(\"y_obs\", lower=0, upper=N, observed=y)\n",
    "\n",
    "    # choose the sampling method - we have to use Metropolis-Hastings because\n",
    "    # the variables are discrete\n",
    "    step = pm.Metropolis()\n",
    "    \n",
    "    # we'll use four chains, and parallelize to four cores\n",
    "    start = {\"N\": y.max()} # the highest number is a reasonable starting point\n",
    "    trace = pm.sample(100000, step, start)\n",
    "    \n",
    "    "
   ]
  },
  {
   "cell_type": "code",
   "execution_count": 29,
   "metadata": {},
   "outputs": [
    {
     "data": {
      "image/png": "[encoded data removed]",
      "text/plain": [
       "<Figure size 432x288 with 1 Axes>"
      ]
     },
     "metadata": {
      "needs_background": "light"
     },
     "output_type": "display_data"
    }
   ],
   "source": [
    "pm.plot_posterior(trace);"
   ]
  },
  {
   "cell_type": "code",
   "execution_count": null,
   "metadata": {},
   "outputs": [],
   "source": []
  }
 ],
 "metadata": {
  "kernelspec": {
   "display_name": "PyMC3",
   "language": "python",
   "name": "pymc3"
  },
  "language_info": {
   "codemirror_mode": {
    "name": "ipython",
    "version": 3
   },
   "file_extension": ".py",
   "mimetype": "text/x-python",
   "name": "python",
   "nbconvert_exporter": "python",
   "pygments_lexer": "ipython3",
   "version": "3.7.6"
  }
 },
 "nbformat": 4,
 "nbformat_minor": 2
}
