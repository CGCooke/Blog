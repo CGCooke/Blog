{
 "cells": [
  {
   "cell_type": "markdown",
   "metadata": {},
   "source": [
    "# An Exodus\n",
    "> What does 'It's time to go home' look like in practice?\n",
    "\n",
    "- toc: true \n",
    "- badges: true\n",
    "- comments: true\n",
    "- categories: [Aerospace]\n",
    "- image: images/2020-4-3-The-Exodus/header.jpg"
   ]
  },
  {
   "cell_type": "markdown",
   "metadata": {},
   "source": [
    "## The context\n",
    "\n",
    "There are something like 500,000 international students in Australia, and in the words of Australian Prime minister, Scott Morrison, it's time for them to go [home](https://www.abc.net.au/news/2020-04-03/coronavirus-pm-tells-international-students-time-to-go-to-home/12119568).\n",
    "\n",
    "Some of these students are fortunate, and have secured employment in roles where they can continue to work, despite the economic and social impacts of COV19. Many are less fortunate. \n",
    "\n",
    "Unfortunately for many of these students, returning home is easier said than done. Globally, airlines are grounding their fleets and countries are closing their borders. \n",
    "\n",
    "\n",
    "## The numbers\n",
    "\n",
    "While the numbers change on a day to day basis, as I write, the earliest flight from Australia to India is on Sunday the 12th of April, in 9 days time. It costs $1,939 USD and is an epic 58 hours, providing a regional geo-political tour, taking you from Melbourne New Delhi, via Doha, Islamabad and Riyadh. (For geopolitical reasons, you can't fly from Doha to Riyadh, or from Islamabad to New Delhi). \n",
    "\n",
    "While I'm not certain of what the future holds, let's imagine a possible future, and consider what an exodus of Indian students would look like. Let's start with the numbers, there are 153,537 Indians on (X) type visas. \n",
    "\n",
    "Let's think at a high level for how we can place these numbers in context. [372,000](https://www.abs.gov.au/ausstats/abs@.nsf/featurearticlesbyCatalogue/961B6B53B87C130ACA2574030010BD05) Indians Indians visited Australia circa 2019. Let's assume that roughly the same number of Australians visit India. From this we can assume that there are approximately 700,000 seat's p/a available to/from India, or 350,000 seats available in each direction. This estimate isn't that far from the truth, with total bi-directional capacity of [676,000](https://www.austrade.gov.au/ArticleDocuments/5499/MappingAustraliaStageTwo.pdf.aspx).\n",
    "\n",
    "\n",
    "From this, we can see that under normal operating conditions, assuming that there were no other passengers, it would take ±3.5 months to completely evacuate 100,000 people from Australia to India using the available commercial capacity.\n",
    "\n",
    "\n",
    "## The airlift\n",
    "\n",
    "Realistically, a government backed airlift would be required, in order for a significant number of citizens to be repatriated, in a reasonable amount of time.\n",
    "\n",
    "\n",
    "Surprisingly, and exodus of this scale isn't without precedent in recent history. Take for example the airlift of [Indians from Kuait](https://en.wikipedia.org/wiki/1990_airlift_of_Indians_from_Kuwait), where 111,711 people were airlifted on 488 flights over 63 days from Amman, Jordan to Mumbai. It's important to note that this was over a distance of ±4,000km, as opposed to the ±10,000km between Sydney and Mumbai. Assuming that the aircraft utilised can spend a significant proportion of their time airborne, then this significantly decreases the rate at which the airlift can take place. \n",
    "\n",
    "At a first approximation, it's clear that any meaningful airlift would involve hundreds of new flights, over a period of weeks or more likely months. In practice, this would realistically involve using the Indian Goveerment owned *Air India*.\n",
    "\n",
    "Let's take a quick look at the fleet of aircraft that could be employed \n",
    "\n",
    "\n",
    "| Aircraft Type | Number in service | Available Seats |\n",
    "|---------------|-------------------|-----------------|\n",
    "| B787-8        | 27                | 256             |\n",
    "| B777-300ER    | 15                | 342             |\n",
    "| B777-200LR    | 3                 | 238             |\n",
    "| B747-400      | 4                 | 423             |\n",
    "\n",
    "All up, we have 49 aircraft, with a weighted average of 296 seats. From this, we can make some high level assumptions. [MIT](http://web.mit.edu/airlinedata/www/2018%2012%20Month%20Documents/Aircraft%20and%20Related/Widebody/Total%20Aircraft%20Block%20Hours%20-%20WIDEBODY%20EQUIPMENT.htm) found that wide body aircraft typically operated 12 hours (\"Block hours\") a day on average. \n",
    "\n",
    "Based on an average cruising speed of 500 Knots (925 Km/h), and a distance of 5,600 NM (10,400 km) between Sydney and New Delhi, we can approximate a flight time of 11 hours. From this, we can assume each return trip takes 2 days. \n",
    "\n",
    "From this we find the total daily capacity, which is 7,256 seats.\n",
    "\n",
    "\\begin{equation*}\n",
    "Total Capacity = {Average Seats \\times Fleet Size \\times Flights Per Day}\n",
    "\\end{equation*}\n",
    "\n",
    "In turn, it would take approximately 2 weeks to evacuate 100,000 people. In practice, an evacuation on this scale would be infeasible at this rate, and would likely take far longer.  \n",
    "\n",
    "![An image](../images/2020-4-3-The-Exodus/Air_India_Plane.jpg)\n",
    "\n",
    "We can also provide a first order approximation of the cost of the evacuation. For FY19, *Air India* recorded as Cost Per Available Seat Kilometre (*CASK*) of [5 Rupees](https://www.bloombergquint.com/business/air-india-is-up-for-sale-again-heres-whats-different-this-time) ($0.065 USD).\n",
    "\n",
    "From this, we can multiply the *CASK* by the total number of seats and the total number of seats, to find the total cost.\n",
    "\n",
    "\\begin{equation*}\n",
    "Cost =  CASK \\times Seats \\times 2 \\times Distance\n",
    "\\end{equation*}\n",
    "\n",
    "Or a cool $229M AUD."
   ]
  }
 ],
 "metadata": {
  "kernelspec": {
   "display_name": "PyMC3",
   "language": "python",
   "name": "pymc3"
  },
  "language_info": {
   "codemirror_mode": {
    "name": "ipython",
    "version": 3
   },
   "file_extension": ".py",
   "mimetype": "text/x-python",
   "name": "python",
   "nbconvert_exporter": "python",
   "pygments_lexer": "ipython3",
   "version": "3.7.6"
  }
 },
 "nbformat": 4,
 "nbformat_minor": 4
}
