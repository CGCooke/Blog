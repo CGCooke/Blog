{
 "cells": [
  {
   "cell_type": "markdown",
   "metadata": {},
   "source": [
    "# An Exodus\n",
    "> What does 'It's time to go home' look like in practice?\n",
    "\n",
    "- toc: true \n",
    "- badges: true\n",
    "- comments: true\n",
    "- categories: [Aviation]\n",
    "- image: images/2020-4-3-The-Exodus/header.png"
   ]
  },
  {
   "cell_type": "markdown",
   "metadata": {},
   "source": [
    "There are something like 500,000 international students in Australia, and in the words of Australian Prime minister, Scott Morrison, it's time for them to go [home](https://www.abc.net.au/news/2020-04-03/coronavirus-pm-tells-international-students-time-to-go-to-home/12119568).\n",
    "\n",
    "Some of these students are fortunate, and have secured employment in roles where they can continue to work, despite the economic and social impacts of COV19. Many are less fortunate. \n",
    "\n",
    "Unfortunately for many of these students, returning home is easier said than done. Globally, airlines are grounding their fleets and countries are closing their borders. \n",
    "\n",
    "While the numbers change on a day to day basis, as I write, the earliest flight from Australia to India is on Sunday the 12th of April, in 9 days time. It costs $1,939 USD ($3,497.23 AUD) and is an epic 58 hours, providing a regional geo-political tour, taking you from Melbourne New Delhi, via Doha, Islamabad and Riyadh. (For geopolitical reasons, you can't fly from Doha to Riyadh, or from Islamabad to New Delhi). \n",
    "\n",
    "While I'm not certain of what the future holds, let's imagine a possible future, and consider what an exodus of Indian and Nepalese students would look like. \n",
    "\n",
    "Let's start with the numbers, there are 153,537 Indians and K Nepalese students currently in Australia, on (X) type visas. \n",
    "\n",
    "Let's think at a high level for how we can place these numbers in context. [372,000](https://www.abs.gov.au/ausstats/abs@.nsf/featurearticlesbyCatalogue/961B6B53B87C130ACA2574030010BD05) Indians Indians visited Australia circa 2019. Let's assume that roughly the same number of Australians visit India. From this we can assume that there are approximately 700,000 seat's p/a available to/from India, or 350,000 seats available in each direction. This estimate isn't that far from the truth, with total bi-directional capacity of [676,000](https://www.austrade.gov.au/ArticleDocuments/5499/MappingAustraliaStageTwo.pdf.aspx).\n",
    "\n",
    "\n",
    "From this, we can see that under normal operating conditions, assuming that there were no other passengers, it would take ±3.5 months to completely evacuate 100,000 people from Australia to India.\n",
    "\n",
    "\n",
    "\n",
    "Surprisingly, and exodus of this scale isn't without precedent in recent history. Take for example the airlift of [Indians from Kuait](https://en.wikipedia.org/wiki/1990_airlift_of_Indians_from_Kuwait), where 111,711 people were airlifted on 488 flights over 63 days."
   ]
  },
  {
   "cell_type": "markdown",
   "metadata": {},
   "source": [
    "![An image](../images/2020-4-3-The-Exodus/header.png)"
   ]
  },
  {
   "cell_type": "markdown",
   "metadata": {},
   "source": []
  },
  {
   "cell_type": "code",
   "execution_count": 1,
   "metadata": {},
   "outputs": [
    {
     "name": "stderr",
     "output_type": "stream",
     "text": [
      "WARNING (theano.configdefaults): install mkl with `conda install mkl-service`: No module named 'mkl'\n"
     ]
    }
   ],
   "source": [
    "import numpy as np\n",
    "import matplotlib.pyplot as plt\n",
    "\n",
    "%matplotlib inline\n",
    "from IPython.display import set_matplotlib_formats\n",
    "set_matplotlib_formats('svg')\n",
    "plt.rcParams['figure.figsize'] = [20, 20]\n",
    "\n",
    "from pymc3 import  *\n"
   ]
  },
  {
   "cell_type": "markdown",
   "metadata": {},
   "source": [
    "\\begin{equation*}\n",
    "x = \n",
    "\\begin{bmatrix}\n",
    "a \\\\\n",
    "b \\\\\n",
    "1\n",
    "\\end{bmatrix}\n",
    "\\end{equation*}"
   ]
  },
  {
   "cell_type": "markdown",
   "metadata": {},
   "source": [
    "\\begin{equation*}\n",
    "K = \n",
    "\\begin{bmatrix}\n",
    "f & c_{x} \\\\\n",
    "0 & 1 \n",
    "\\end{bmatrix}\n",
    "\\end{equation*}"
   ]
  },
  {
   "cell_type": "markdown",
   "metadata": {},
   "source": [
    "\\begin{equation*}\n",
    "R = \n",
    "\\begin{bmatrix}\n",
    "R_1 & R_2 \\\\\n",
    "R_3 & R_4\\\\\n",
    "\\end{bmatrix}\n",
    "\\end{equation*}\n"
   ]
  },
  {
   "cell_type": "markdown",
   "metadata": {},
   "source": [
    "\n",
    "\\begin{equation*}\n",
    "P = KR[I|−C]\n",
    "\\end{equation*}\n",
    "\n",
    "\n",
    "\\begin{equation*}\n",
    "C = \n",
    "\\begin{bmatrix}\n",
    "-C_X\\\\\n",
    "-C_Y\\\\ \n",
    "\\end{bmatrix}\n",
    "\\end{equation*}\n",
    "\n"
   ]
  },
  {
   "cell_type": "code",
   "execution_count": null,
   "metadata": {},
   "outputs": [],
   "source": []
  },
  {
   "cell_type": "code",
   "execution_count": null,
   "metadata": {},
   "outputs": [],
   "source": []
  },
  {
   "cell_type": "code",
   "execution_count": null,
   "metadata": {},
   "outputs": [],
   "source": []
  }
 ],
 "metadata": {
  "kernelspec": {
   "display_name": "PyMC3",
   "language": "python",
   "name": "pymc3"
  },
  "language_info": {
   "codemirror_mode": {
    "name": "ipython",
    "version": 3
   },
   "file_extension": ".py",
   "mimetype": "text/x-python",
   "name": "python",
   "nbconvert_exporter": "python",
   "pygments_lexer": "ipython3",
   "version": "3.7.6"
  }
 },
 "nbformat": 4,
 "nbformat_minor": 4
}
