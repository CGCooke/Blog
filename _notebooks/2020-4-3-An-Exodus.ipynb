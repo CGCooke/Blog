{
 "cells": [
  {
   "cell_type": "markdown",
   "metadata": {},
   "source": [
    "# An Exodus\n",
    "> What does 'It's time to go home' look like in practice?\n",
    "\n",
    "- toc: true \n",
    "- badges: true\n",
    "- comments: true\n",
    "- categories: [Aviation]\n",
    "- image: images/3-4-2020-The-Exodus/australian-money-money-note-notes-529875.jpg"
   ]
  },
  {
   "cell_type": "markdown",
   "metadata": {},
   "source": [
    "[link](https://www.abc.net.au/news/2020-04-03/coronavirus-pm-tells-international-students-time-to-go-to-home/12119568)"
   ]
  },
  {
   "cell_type": "markdown",
   "metadata": {},
   "source": [
    "![Diagram of a pinhole camera](../images/2020-2-23-An-Adventure-In-Camera-Calibration/download.png)"
   ]
  },
  {
   "cell_type": "markdown",
   "metadata": {},
   "source": [
    "Sum of Visa Holders\tCitizenship Country\tSnapshot Date\t\t\t\t\t\t\n",
    "\tChina, Peoples Republic of (excl SARs)\tChina, Peoples Republic of (excl SARs) Total\tIndia\tIndia Total\tIndonesia\tIndonesia Total\tPhilippines\tPhilippines Total\n",
    "Visa Category\t31/12/19\t\t31/12/19\t\t31/12/19\t\t31/12/19\t\n",
    "Student\t80,175\t80,175\t96,938\t96,938\t11,787\t11,787\t15,264\t15,264\n",
    "Working Holiday Maker\t5,213\t5,213\t\t\t1,487\t1,487\t\t\n",
    "Temporary Resident (Other Employment)\t3,683\t3,683\t2,504\t2,504\t580\t580\t955\t955\n",
    "Temporary Resident (Skilled Employment)\t6,215\t6,215\t25,245\t25,245\t1,179\t1,179\t9,443\t9,443\n",
    "Temporary Graduate\t14,136\t14,136\t28,850\t28,850\t1,479\t1,479\t2,276\t2,276\n",
    "Grand Total\t109,422\t109,422\t153,537\t153,537\t16,512\t16,512\t27,938\t27,938"
   ]
  },
  {
   "cell_type": "code",
   "execution_count": 1,
   "metadata": {},
   "outputs": [
    {
     "name": "stderr",
     "output_type": "stream",
     "text": [
      "WARNING (theano.configdefaults): install mkl with `conda install mkl-service`: No module named 'mkl'\n"
     ]
    }
   ],
   "source": [
    "import numpy as np\n",
    "import matplotlib.pyplot as plt\n",
    "\n",
    "%matplotlib inline\n",
    "from IPython.display import set_matplotlib_formats\n",
    "set_matplotlib_formats('svg')\n",
    "plt.rcParams['figure.figsize'] = [20, 20]\n",
    "\n",
    "from pymc3 import  *\n"
   ]
  },
  {
   "cell_type": "markdown",
   "metadata": {},
   "source": [
    "\\begin{equation*}\n",
    "x = \n",
    "\\begin{bmatrix}\n",
    "a \\\\\n",
    "b \\\\\n",
    "1\n",
    "\\end{bmatrix}\n",
    "\\end{equation*}"
   ]
  },
  {
   "cell_type": "markdown",
   "metadata": {},
   "source": [
    "\\begin{equation*}\n",
    "K = \n",
    "\\begin{bmatrix}\n",
    "f & c_{x} \\\\\n",
    "0 & 1 \n",
    "\\end{bmatrix}\n",
    "\\end{equation*}"
   ]
  },
  {
   "cell_type": "markdown",
   "metadata": {},
   "source": [
    "\\begin{equation*}\n",
    "R = \n",
    "\\begin{bmatrix}\n",
    "R_1 & R_2 \\\\\n",
    "R_3 & R_4\\\\\n",
    "\\end{bmatrix}\n",
    "\\end{equation*}\n"
   ]
  },
  {
   "cell_type": "markdown",
   "metadata": {},
   "source": [
    "\n",
    "\\begin{equation*}\n",
    "P = KR[I|−C]\n",
    "\\end{equation*}\n",
    "\n",
    "\n",
    "\\begin{equation*}\n",
    "C = \n",
    "\\begin{bmatrix}\n",
    "-C_X\\\\\n",
    "-C_Y\\\\ \n",
    "\\end{bmatrix}\n",
    "\\end{equation*}\n",
    "\n"
   ]
  },
  {
   "cell_type": "code",
   "execution_count": null,
   "metadata": {},
   "outputs": [],
   "source": []
  },
  {
   "cell_type": "code",
   "execution_count": null,
   "metadata": {},
   "outputs": [],
   "source": []
  },
  {
   "cell_type": "code",
   "execution_count": null,
   "metadata": {},
   "outputs": [],
   "source": []
  }
 ],
 "metadata": {
  "kernelspec": {
   "display_name": "PyMC3",
   "language": "python",
   "name": "pymc3"
  },
  "language_info": {
   "codemirror_mode": {
    "name": "ipython",
    "version": 3
   },
   "file_extension": ".py",
   "mimetype": "text/x-python",
   "name": "python",
   "nbconvert_exporter": "python",
   "pygments_lexer": "ipython3",
   "version": "3.7.6"
  }
 },
 "nbformat": 4,
 "nbformat_minor": 4
}
