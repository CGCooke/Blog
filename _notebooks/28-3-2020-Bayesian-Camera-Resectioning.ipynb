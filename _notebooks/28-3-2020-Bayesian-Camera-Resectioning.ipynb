{
 "cells": [
  {
   "cell_type": "markdown",
   "metadata": {},
   "source": [
    "# Bayesian Camera Resectioning\n",
    "> Let's apply Bayesian analysis to resect a camera\n",
    "\n",
    "- toc: true \n",
    "- badges: true\n",
    "- comments: true\n",
    "- categories: [Bayesian, Computer Vision]\n",
    "- image: images/22-3-2020-Super-Fun-With-Bayesian-Magic/australian-money-money-note-notes-529875.jpg"
   ]
  },
  {
   "cell_type": "code",
   "execution_count": null,
   "metadata": {},
   "outputs": [],
   "source": []
  },
  {
   "cell_type": "markdown",
   "metadata": {},
   "source": [
    "Ok, Let's pull the data we need out of the Pandas dataframe. Please forgive me for this horrible horrible hack."
   ]
  },
  {
   "cell_type": "code",
   "execution_count": null,
   "metadata": {},
   "outputs": [],
   "source": []
  },
  {
   "cell_type": "markdown",
   "metadata": {},
   "source": [
    "Now we have the data, let's do a quick, visualization of ages of HOSTPLUS's members.\n",
    "One subtle point to call out, is that the age brackets are not uniform."
   ]
  },
  {
   "cell_type": "code",
   "execution_count": 1,
   "metadata": {},
   "outputs": [],
   "source": [
    "import numpy as np\n",
    "import matplotlib.pyplot as plt\n",
    "plt.rcParams['figure.figsize'] = [20, 20]"
   ]
  },
  {
   "cell_type": "code",
   "execution_count": 2,
   "metadata": {},
   "outputs": [
    {
     "ename": "NameError",
     "evalue": "name 'age_brackets' is not defined",
     "output_type": "error",
     "traceback": [
      "\u001b[0;31m---------------------------------------------------------------------------\u001b[0m",
      "\u001b[0;31mNameError\u001b[0m                                 Traceback (most recent call last)",
      "\u001b[0;32m<ipython-input-2-1da76e0f2e15>\u001b[0m in \u001b[0;36m<module>\u001b[0;34m\u001b[0m\n\u001b[0;32m----> 1\u001b[0;31m \u001b[0mplt\u001b[0m\u001b[0;34m.\u001b[0m\u001b[0mbar\u001b[0m\u001b[0;34m(\u001b[0m\u001b[0mage_brackets\u001b[0m\u001b[0;34m,\u001b[0m\u001b[0mmembers_f_numbers\u001b[0m\u001b[0;34m,\u001b[0m\u001b[0mlabel\u001b[0m\u001b[0;34m=\u001b[0m\u001b[0;34m'Female'\u001b[0m\u001b[0;34m,\u001b[0m\u001b[0malpha\u001b[0m\u001b[0;34m=\u001b[0m\u001b[0;36m0.5\u001b[0m\u001b[0;34m,\u001b[0m\u001b[0mwidth\u001b[0m\u001b[0;34m=\u001b[0m\u001b[0;36m0.95\u001b[0m\u001b[0;34m,\u001b[0m\u001b[0mcolor\u001b[0m\u001b[0;34m=\u001b[0m\u001b[0;34m'#A60628'\u001b[0m\u001b[0;34m)\u001b[0m\u001b[0;34m\u001b[0m\u001b[0;34m\u001b[0m\u001b[0m\n\u001b[0m\u001b[1;32m      2\u001b[0m \u001b[0mplt\u001b[0m\u001b[0;34m.\u001b[0m\u001b[0mbar\u001b[0m\u001b[0;34m(\u001b[0m\u001b[0mage_brackets\u001b[0m\u001b[0;34m,\u001b[0m\u001b[0mmembers_m_numbers\u001b[0m\u001b[0;34m,\u001b[0m\u001b[0mlabel\u001b[0m\u001b[0;34m=\u001b[0m\u001b[0;34m'Male'\u001b[0m\u001b[0;34m,\u001b[0m\u001b[0malpha\u001b[0m\u001b[0;34m=\u001b[0m\u001b[0;36m0.5\u001b[0m\u001b[0;34m,\u001b[0m\u001b[0mwidth\u001b[0m\u001b[0;34m=\u001b[0m\u001b[0;36m0.95\u001b[0m\u001b[0;34m,\u001b[0m\u001b[0mcolor\u001b[0m\u001b[0;34m=\u001b[0m\u001b[0;34m'#348ABD'\u001b[0m\u001b[0;34m)\u001b[0m\u001b[0;34m\u001b[0m\u001b[0;34m\u001b[0m\u001b[0m\n\u001b[1;32m      3\u001b[0m \u001b[0;34m\u001b[0m\u001b[0m\n\u001b[1;32m      4\u001b[0m \u001b[0mplt\u001b[0m\u001b[0;34m.\u001b[0m\u001b[0mgrid\u001b[0m\u001b[0;34m(\u001b[0m\u001b[0;34m)\u001b[0m\u001b[0;34m\u001b[0m\u001b[0;34m\u001b[0m\u001b[0m\n\u001b[1;32m      5\u001b[0m \u001b[0mplt\u001b[0m\u001b[0;34m.\u001b[0m\u001b[0mlegend\u001b[0m\u001b[0;34m(\u001b[0m\u001b[0;34m)\u001b[0m\u001b[0;34m\u001b[0m\u001b[0;34m\u001b[0m\u001b[0m\n",
      "\u001b[0;31mNameError\u001b[0m: name 'age_brackets' is not defined"
     ]
    }
   ],
   "source": [
    "plt.bar(age_brackets,members_f_numbers,label='Female',alpha=0.5,width=0.95,color='#A60628')\n",
    "plt.bar(age_brackets,members_m_numbers,label='Male',alpha=0.5,width=0.95,color='#348ABD')\n",
    "\n",
    "plt.grid()\n",
    "plt.legend()\n",
    "plt.title('Histogram of HOSTPLUS Member Ages')\n",
    "plt.ylabel('Number of members')\n",
    "plt.xlabel('Age Bracket (Years)')\n",
    "plt.show()"
   ]
  },
  {
   "cell_type": "code",
   "execution_count": null,
   "metadata": {},
   "outputs": [],
   "source": [
    "plt.bar(age_brackets,100*np.cumsum(members_f_numbers)/np.nansum(members_f_numbers),label='Female',alpha=0.5,width=0.95,color='#A60628')\n",
    "plt.bar(age_brackets,100*np.cumsum(members_m_numbers)/np.nansum(members_m_numbers),label='Male',alpha=0.5,width=0.95,color='#348ABD')\n",
    "\n",
    "plt.grid()\n",
    "plt.legend()\n",
    "plt.title('Cumulative Histogram of HOSTPLUS Member Ages')\n",
    "plt.ylabel('Number of members')\n",
    "plt.xlabel('Age Bracket (Years)')\n",
    "plt.show()"
   ]
  },
  {
   "cell_type": "markdown",
   "metadata": {},
   "source": [
    "Ok, so from this, it's clear that a typical member is in the range of 25-34 years old, with slightly more women than men. Now let's look at the account balances."
   ]
  },
  {
   "cell_type": "code",
   "execution_count": null,
   "metadata": {},
   "outputs": [],
   "source": [
    "members_f_average_account_balance = members_f_total_account_balance/members_f_numbers\n",
    "members_m_average_account_balance = members_m_total_account_balance/members_m_numbers\n",
    "\n",
    "plt.bar(age_brackets,members_f_average_account_balance,label='Female',alpha=0.5,width=0.95,color='#A60628')\n",
    "plt.bar(age_brackets,members_m_average_account_balance,label='Male',alpha=0.5,width=0.95,color='#348ABD')\n",
    "\n",
    "plt.grid()\n",
    "plt.legend()\n",
    "plt.title('HOSTPLUS average account balance vs age and gender')\n",
    "plt.ylabel('Average account balance ($AUD)')\n",
    "plt.xlabel('Age Bracket (Years)')\n",
    "ax = plt.gca()\n",
    "ax.get_yaxis().set_major_formatter(plt.FuncFormatter(lambda x, loc: \"${:,}\".format(int(x))))\n",
    "plt.show()"
   ]
  },
  {
   "cell_type": "markdown",
   "metadata": {},
   "source": [
    "> Note: There is a clear trend which it would be remiss to ignore. Men have significantly larger balances than women, over a large part of the age curve. I'm not a labour economist, so I don't have the right background to correctly apprortion the causes for this. "
   ]
  },
  {
   "cell_type": "markdown",
   "metadata": {},
   "source": []
  }
 ],
 "metadata": {
  "kernelspec": {
   "display_name": "PyMC3",
   "language": "python",
   "name": "pymc3"
  },
  "language_info": {
   "codemirror_mode": {
    "name": "ipython",
    "version": 3
   },
   "file_extension": ".py",
   "mimetype": "text/x-python",
   "name": "python",
   "nbconvert_exporter": "python",
   "pygments_lexer": "ipython3",
   "version": "3.7.6"
  }
 },
 "nbformat": 4,
 "nbformat_minor": 4
}
