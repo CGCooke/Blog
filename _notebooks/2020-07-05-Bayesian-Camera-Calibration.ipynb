{
 "cells": [
  {
   "cell_type": "markdown",
   "metadata": {},
   "source": [
    "# Bayesian Camera Calibration\n",
    "> Let's look and how we can use PyMC3 to help us improve our aim.\n",
    "\n",
    "- toc: true \n",
    "- badges: true\n",
    "- comments: true\n",
    "- categories: [Bayesian, PyMC3]\n",
    "- image: images/2020-07-02-On-Target-With-PyMC3/header.jpg"
   ]
  },
  {
   "cell_type": "code",
   "execution_count": 1,
   "metadata": {},
   "outputs": [],
   "source": [
    "import numpy as np\n",
    "import matplotlib.pyplot as plt\n",
    "import seaborn as sns\n",
    "import pymc3 as pm\n",
    "import theano\n",
    "import pandas as pd\n",
    "from scipy.spatial.transform import Rotation as Rot\n",
    "from warnings import filterwarnings\n",
    "filterwarnings('ignore')\n",
    "\n",
    "plt.rcParams['figure.figsize'] = [10,10]"
   ]
  },
  {
   "cell_type": "code",
   "execution_count": 2,
   "metadata": {},
   "outputs": [],
   "source": [
    "df = pd.read_csv('data/2020-07-05-Bayesian-Camera-Calibration/points.csv',sep =' ')\n",
    "px = df.i.values\n",
    "py = df.j.values\n",
    "\n",
    "X_input = df.X.values\n",
    "Y_input = df.Y.values\n",
    "Z_input = df.Z.values\n",
    "\n",
    "number_points = px.shape[0]\n",
    "\n",
    "points3d = np.vstack([X_input,Y_input,Z_input]).T"
   ]
  },
  {
   "cell_type": "code",
   "execution_count": 3,
   "metadata": {},
   "outputs": [],
   "source": [
    "def Rotate_Translate(X_est, Y_est, Z_est):\n",
    "    #Quaternions: X: 0.852 Y: -0.242 Z: 0.139 W: 0.442 \n",
    "    Q0 = pm.Normal('Wq', mu = 0.166,  sigma=0.1)\n",
    "    Q1 = pm.Normal('Xq', mu = 0.894,  sigma=0.1)\n",
    "    Q2 = pm.Normal('Yq', mu = -0.408, sigma=0.1)\n",
    "    Q3 = pm.Normal('Zq', mu = 0.084,  sigma=0.1)\n",
    "    \n",
    "    norm = pm.math.sqrt(Q0**2 + Q1**2 + Q2**2 + Q3**2)\n",
    "    \n",
    "    Q0 /= norm\n",
    "    Q1 /= norm\n",
    "    Q2 /= norm\n",
    "    Q3 /= norm\n",
    "    \n",
    "    R =[[Q0**2 + Q1**2 - Q2**2 - Q3**2, 2*(Q1*Q2 - Q0*Q3), 2*(Q0*Q2 + Q1*Q3)],\n",
    "        [2*(Q1*Q2 + Q0*Q3), Q0**2 - Q1**2 + Q2**2 - Q3**2, 2*(Q2*Q3 - Q0*Q1)],\n",
    "        [2*(Q1*Q3 - Q0*Q2), 2*(Q0*Q1 + Q2*Q3), (Q0**2 - Q1**2 - Q2**2 + Q3**2)]]\n",
    "    \n",
    "    \n",
    "    # Define priors \n",
    "    X_translate = pm.Normal('X_translate', mu = -6.85, sigma = 5)\n",
    "    Y_translate = pm.Normal('Y_translate', mu = -12.92, sigma = 5)\n",
    "    Z_translate = pm.Normal('Z_translate', mu = 2.75, sigma = 5)\n",
    "    \n",
    "    RIC_0_3 = R[0][0] * -X_translate + R[0][1] * -Y_translate + R[0][2] * -Z_translate\n",
    "    RIC_1_3 = R[1][0] * -X_translate + R[1][1] * -Y_translate + R[1][2] * -Z_translate\n",
    "    RIC_2_3 = R[2][0] * -X_translate + R[2][1] * -Y_translate + R[2][2] * -Z_translate\n",
    "    \n",
    "    X_out = X_est * R[0][0] + Y_est * R[0][1] + Z_est * R[0][2] + RIC_0_3\n",
    "    Y_out = X_est * R[1][0] + Y_est * R[1][1] + Z_est * R[1][2] + RIC_1_3\n",
    "    Z_out = X_est * R[2][0] + Y_est * R[2][1] + Z_est * R[2][2] + RIC_2_3\n",
    "    \n",
    "    return(X_out, Y_out, Z_out)\n",
    "    "
   ]
  },
  {
   "cell_type": "code",
   "execution_count": null,
   "metadata": {
    "scrolled": true
   },
   "outputs": [
    {
     "name": "stderr",
     "output_type": "stream",
     "text": [
      "Auto-assigning NUTS sampler...\n",
      "Initializing NUTS using adapt_diag...\n",
      "Multiprocess sampling (4 chains in 4 jobs)\n",
      "NUTS: [c_y, c_x, k3, k2, k1, focal_length, Z_translate, Y_translate, X_translate, Zq, Yq, Xq, Wq]\n",
      "Sampling 4 chains, 0 divergences:  39%|███▉      | 3153/8000 [03:23<06:51, 11.77draws/s]"
     ]
    }
   ],
   "source": [
    "with pm.Model() as model: # model specifications in PyMC3 are wrapped in a with-statement\n",
    "    X, Y, Z = Rotate_Translate(points3d[:,0], points3d[:,1], points3d[:,2])\n",
    "    \n",
    "    #Focal length (Pixels): 1010\n",
    "    focal_length = pm.Normal('focal_length',mu = 1010, sigma = 100)\n",
    "    \n",
    "    k1 = pm.Normal('k1', mu = -0.327041, sigma = 0.01 * 0.327041)\n",
    "    k2 = pm.Normal('k2', mu = 0.175031,  sigma = 0.01 * 0.175031)\n",
    "    k3 = pm.Normal('k3', mu = -0.030751, sigma = 0.01 * 0.030751)\n",
    "    \n",
    "    c_x = pm.Normal('c_x', mu = 1038.58, sigma = 200)\n",
    "    c_y = pm.Normal('c_y', mu = 2663.52, sigma = 200)\n",
    "    \n",
    "    px_est = X / Z\n",
    "    py_est = Y / Z\n",
    "    \n",
    "    #Radial distortion\n",
    "    r = pm.math.sqrt(px_est**2 + py_est**2)\n",
    "    \n",
    "    radial_distortion_factor = (1 + k1 * r + k2 * r**2 + k3 * r**3)\n",
    "    px_est *= radial_distortion_factor\n",
    "    py_est *= radial_distortion_factor\n",
    "    \n",
    "    px_est *= focal_length\n",
    "    py_est *= focal_length\n",
    "\n",
    "    px_est += c_x\n",
    "    py_est += c_y\n",
    "    \n",
    "    error_scale = 5 #px\n",
    "    \n",
    "    delta = pm.math.sqrt((px - px_est)**2 + (py - py_est)**2)\n",
    "    \n",
    "    # Define likelihood\n",
    "    likelihood = pm.Normal('rms_pixel_error', mu = delta, sigma = error_scale, observed=np.zeros(number_points))\n",
    "\n",
    "    # Inference!\n",
    "    trace = pm.sample(draws=1_000, init='adapt_diag', cores=4 , tune=1_000)"
   ]
  },
  {
   "cell_type": "code",
   "execution_count": null,
   "metadata": {
    "scrolled": false
   },
   "outputs": [],
   "source": [
    "# Profiling of the logp call\n",
    "#model.profile(model.logpt).summary()"
   ]
  },
  {
   "cell_type": "code",
   "execution_count": null,
   "metadata": {
    "scrolled": false
   },
   "outputs": [],
   "source": [
    "plt.figure(figsize=(7, 7))\n",
    "pm.traceplot(trace);\n",
    "plt.tight_layout();"
   ]
  },
  {
   "cell_type": "code",
   "execution_count": null,
   "metadata": {
    "scrolled": false
   },
   "outputs": [],
   "source": [
    "pm.plot_posterior(trace);"
   ]
  },
  {
   "cell_type": "code",
   "execution_count": null,
   "metadata": {},
   "outputs": [],
   "source": [
    "pm.summary(trace)"
   ]
  },
  {
   "cell_type": "code",
   "execution_count": null,
   "metadata": {},
   "outputs": [],
   "source": [
    "pm.pairplot(trace, var_names=['X_translate','Y_translate','Z_translate'], divergences=True);"
   ]
  },
  {
   "cell_type": "code",
   "execution_count": null,
   "metadata": {},
   "outputs": [],
   "source": [
    "pm.pairplot(trace, var_names=['k1', 'k2', 'k3'], divergences=True);"
   ]
  },
  {
   "cell_type": "code",
   "execution_count": null,
   "metadata": {},
   "outputs": [],
   "source": [
    "pm.pairplot(trace, var_names=['c_x', 'c_y'], divergences=True);"
   ]
  },
  {
   "cell_type": "code",
   "execution_count": null,
   "metadata": {},
   "outputs": [],
   "source": [
    "pm.pairplot(trace, var_names=['Wq', 'Xq','Yq','Zq'], divergences=True);"
   ]
  },
  {
   "cell_type": "code",
   "execution_count": null,
   "metadata": {},
   "outputs": [],
   "source": [
    "sns.jointplot(trace[:]['X_translate'], trace[:]['Y_translate'], kind=\"hex\");"
   ]
  },
  {
   "cell_type": "code",
   "execution_count": null,
   "metadata": {},
   "outputs": [],
   "source": [
    "sns.jointplot(trace[:]['X_translate'], trace[:]['Z_translate'], kind=\"hex\");"
   ]
  },
  {
   "cell_type": "code",
   "execution_count": null,
   "metadata": {},
   "outputs": [],
   "source": [
    "sns.jointplot(trace[:]['c_x'], trace[:]['c_y'], kind=\"hex\");"
   ]
  },
  {
   "cell_type": "code",
   "execution_count": null,
   "metadata": {},
   "outputs": [],
   "source": [
    "sns.jointplot(trace[:]['Wq'], trace[:]['Xq'], kind=\"hex\");"
   ]
  },
  {
   "cell_type": "code",
   "execution_count": null,
   "metadata": {},
   "outputs": [],
   "source": []
  }
 ],
 "metadata": {
  "kernelspec": {
   "display_name": "PyMC3",
   "language": "python",
   "name": "pymc3"
  },
  "language_info": {
   "codemirror_mode": {
    "name": "ipython",
    "version": 3
   },
   "file_extension": ".py",
   "mimetype": "text/x-python",
   "name": "python",
   "nbconvert_exporter": "python",
   "pygments_lexer": "ipython3",
   "version": "3.7.7"
  }
 },
 "nbformat": 4,
 "nbformat_minor": 2
}
