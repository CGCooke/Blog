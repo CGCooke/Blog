{
 "cells": [
  {
   "cell_type": "code",
   "execution_count": null,
   "metadata": {},
   "outputs": [],
   "source": [
    "---\n",
    "toc: true\n",
    "layout: post\n",
    "description: RQ-Decomposition-In-Practice\n",
    "categories: [Computer Vision,Linear Algebra]\n",
    "---"
   ]
  },
  {
   "cell_type": "markdown",
   "metadata": {},
   "source": [
    "Let's keep things short and sweet.\n",
    "\n",
    "Given a camera projection matrix, $P$, we can decompose it into a $K$ (Camera Matrix), $R$ (Rotation Matrix) and $C$ (Camera Centroid) matrix.\n",
    "\n",
    "IE, given we have  $P = K[R|-RC]$, We want to find $K$, $R$ and $C$.\n",
    "\n",
    "The method is simply described in *Multiple View Geometry in Computer Vision (Second Edition)*, on page 163, however let's turn it into a practical *Python* implementation.\n",
    "\n",
    "Let's follow along with an example from the book."
   ]
  },
  {
   "cell_type": "code",
   "execution_count": 1,
   "metadata": {},
   "outputs": [],
   "source": [
    "import numpy as np\n",
    "from scipy import linalg\n",
    "np.set_printoptions(precision=2)"
   ]
  },
  {
   "cell_type": "code",
   "execution_count": 2,
   "metadata": {},
   "outputs": [],
   "source": [
    "P = np.array([[3.53553e+2,  3.39645e+2, 2.77744e+2, -1.44946e+6],\n",
    "              [-1.03528e+2, 2.33212e+1, 4.59607e+2, -6.3252e+5],\n",
    "              [7.07107e-1, -3.53553e-1, 6.12372e-1, -9.18559e+2]])"
   ]
  },
  {
   "cell_type": "markdown",
   "metadata": {},
   "source": [
    "So, we have: $P = [M | −MC]$\n",
    "\n",
    "M can be decomposed as $M=KR$ using the RQ decomposition.\n",
    "\n",
    "```python\n",
    "M = P[0:3,0:3]\n",
    "K, R = linalg.rq(M)\n",
    "```\n",
    "\n",
    "So far, so good.\n",
    "\n",
    "Now things get a little more complex. \n",
    "\n",
    "We want to find a Camera matrix with a positive diagonal, giving positive focal lengths.\n",
    "\n",
    "However, in case this doesn't happen, we can adjust the sign of the column of each column of both the $K$ and $R$ matrix, to \"Make it so\".\n",
    "\n",
    "\n",
    "\n",
    "```python\n",
    "T = np.diag(np.sign(np.diag(K)))\n",
    "if linalg.det(T) < 0:\n",
    "    T[1,1] *= -1\n",
    "\n",
    "K = np.dot(K,T)\n",
    "R = np.dot(T,R)\n",
    "```\n",
    "\n",
    "    \n",
    "Finally, we can find the Camera Center ($C$).\n",
    "\n",
    "We have $P_4$, the 4th column of $P$.\n",
    "\n",
    "\n",
    "$P_4 = −MC$\n",
    "\n",
    "\n",
    "From this, we can find $C = {-M}^{-1} P_4$"
   ]
  },
  {
   "cell_type": "markdown",
   "metadata": {},
   "source": [
    "def factorize(P):\n",
    "    M = P[0:3,0:3]\n",
    "    \n",
    "    K,R = linalg.rq(M)\n",
    "    \n",
    "    T = np.diag(np.sign(np.diag(K)))\n",
    "    \n",
    "    if linalg.det(T) < 0:\n",
    "        T[1,1] *= -1\n",
    "    \n",
    "    K = np.dot(K,T)\n",
    "    R = np.dot(T,R)\n",
    "    \n",
    "    C = np.dot(linalg.inv(-M),P[:,3])\n",
    "    return(K,R,C)\n",
    "\n",
    "\n",
    "    \n",
    "K,R,C = factorize(P)\n",
    "\n",
    "print('K')\n",
    "print(K)\n",
    "\n",
    "print('R')\n",
    "print(R)\n",
    "\n",
    "print('C')\n",
    "print(C)\n"
   ]
  },
  {
   "cell_type": "markdown",
   "metadata": {},
   "source": [
    "Voila!"
   ]
  },
  {
   "cell_type": "markdown",
   "metadata": {},
   "source": [
    "[This](https://www.uio.no/studier/emner/matnat/its/nedlagte-emner/UNIK4690/v17/forelesninger/lecture_5_2_pose_from_known_3d_points.pdf) presentation is a great read, and provides a good overview of the RQ and QR decompositions."
   ]
  },
  {
   "cell_type": "code",
   "execution_count": null,
   "metadata": {},
   "outputs": [],
   "source": []
  }
 ],
 "metadata": {
  "kernelspec": {
   "display_name": "PyMC3",
   "language": "python",
   "name": "pymc3"
  },
  "language_info": {
   "codemirror_mode": {
    "name": "ipython",
    "version": 3
   },
   "file_extension": ".py",
   "mimetype": "text/x-python",
   "name": "python",
   "nbconvert_exporter": "python",
   "pygments_lexer": "ipython3",
   "version": "3.7.6"
  }
 },
 "nbformat": 4,
 "nbformat_minor": 2
}
