{
 "cells": [
  {
   "cell_type": "markdown",
   "metadata": {},
   "source": [
    "# An Adventure in Camera Calibration\n",
    "> Let's learn how to use a set of known 2D and 3D point correspondances to calibrate a camera\n",
    "\n",
    "- toc: true \n",
    "- badges: true\n",
    "- comments: true\n",
    "- categories: [Computer Vision,Optimization,Linear Algebra]"
   ]
  },
  {
   "cell_type": "markdown",
   "metadata": {},
   "source": [
    "It's Febrary 1972, the [A300](https://en.wikipedia.org/wiki/Airbus_A300) airliner is being unviled in Toulouse, let's go on an adventure (In camera calibration!).\n",
    "\n",
    "\n",
    "![An image of the Airbus A300 Final Assembly line in Toulouse](A300.jpg)\n",
    "\n",
    "Let's keep things interesting, and pretend that we work for an aircraft manufacturer, Norton Aircraft, headquartered in Burbank, California. Let's say we have seen this photo published in a magazine, and we want to try and learn as much about the dimensions of Airbus's new aircraft as possible. In order to do so, we will need to mathematically reconstruct the camera used to take the photo, as well as the scene itself.\n",
    "\n",
    "Now, In this case, we are lucky, because we notice the hexagonal pattern on the floor. In particular, we notice that it's a tessellating hexagonal pattern, which can only happen if all the hexagons have identical dimensions.\n",
    "\n",
    "While we don't know the dimensions of the hexagon, we guess that each side is approximately 1.6m long, based on the high of the people in the photo. If we assume some point on the ground, say the center of a polygon is the point 0,0, we can work out the X & Y location of each other polygon vertex we can see. Furthermore, we could also assume that the factory floor is flat and level. Hence the Z coordinate of each point is 0.\n",
    "\n",
    "Let's spend ±5 minutes annotating the image, using an annotation tool like label me. I've generated a file, which you can find attached here: \n",
    "\n",
    "![An annotated image of the Airbus A300 Final Assembly line in Toulouse](Hexagons.jpg)\n",
    "\n",
    "\n",
    "Firstly, lets load in all of the x and y points:"
   ]
  },
  {
   "cell_type": "code",
   "execution_count": null,
   "metadata": {},
   "outputs": [],
   "source": [
    "import json\n",
    "import numpy as np\n",
    "\n",
    "JSON = json.loads(open('Data/2020-2-23-An-Adventure-In-Camera-Calibration/A300.json','r').read())\n",
    "polygons = {}\n",
    "for shape in JSON['shapes']:\n",
    "    coords = shape['label'].split(',')\n",
    "    x,y = int(coords[0]),int(coords[1])\n",
    "    polygons[x,y] = shape['points']    "
   ]
  },
  {
   "cell_type": "markdown",
   "metadata": {},
   "source": [
    "Ok, now doing some maths, and work out the locations of each vertex of our hexagons."
   ]
  },
  {
   "cell_type": "code",
   "execution_count": null,
   "metadata": {},
   "outputs": [],
   "source": [
    "from sklearn.neighbors import KDTree\n",
    "\n",
    "points = []\n",
    "keys = sorted(polygons.keys())\n",
    "\n",
    "for key in keys:\n",
    "    poly = polygons[key]    \n",
    "    (pts_x, pts_y) = zip(*poly)\n",
    "    \n",
    "    pts_x = list(pts_x)\n",
    "    pts_y = list(pts_y)\n",
    "    \n",
    "    #Magic analytic formula for working out the location of each point, based on which vertex, of which polygon it is.\n",
    "    x_vertex = 0.5 * np.array([1,2,1,-1,-2,-1])\n",
    "    y_vertex = 0.5 * np.array([np.sqrt(3),0,-np.sqrt(3),-np.sqrt(3),0,np.sqrt(3)])\n",
    "    \n",
    "    row,col = key\n",
    "    x = row * 1.5 + x_vertex\n",
    "    y = col * 0.5 * np.sqrt(3) + y_vertex\n",
    "    \n",
    "    #From before, we assume the sides of each polygon is 1.6m\n",
    "    x*=1.6 #meters\n",
    "    y*=1.6 #meters\n",
    "    \n",
    "    for idx in range(0,6):\n",
    "        point = []\n",
    "        i = pts_x[idx]\n",
    "        j = pts_y[idx]\n",
    "        X = x[idx]\n",
    "        Y = y[idx]\n",
    "        Z = 0.0\n",
    "        points.append([i,j,X,Y,Z])\n",
    "        "
   ]
  },
  {
   "cell_type": "markdown",
   "metadata": {},
   "source": [
    "Now we are presented with a minor problem, in many cases, we have annotated the same point up to 3 times, where the vertices of the hexagons meet. So let's go and find points that are within 10 pixels, and then take their average. If we don't do this, then we effectively over-weight some points in the image, at the expense of others."
   ]
  },
  {
   "cell_type": "code",
   "execution_count": null,
   "metadata": {},
   "outputs": [],
   "source": [
    "points = np.asarray(points)\n",
    "\n",
    "tree = KDTree(points[:,0:2], leaf_size=5)\n",
    "\n",
    "merged_indicies = []\n",
    "unique_points = []\n",
    "for i in range(0,points.shape[0]):\n",
    "    if i not in merged_indicies:\n",
    "        dist, ind = tree.query(points[i,0:2].reshape(-1, 2), k=3)\n",
    "        \n",
    "        indicies_to_merge = []\n",
    "        for j in range(0,3):\n",
    "            if dist[0][j]<10:\n",
    "                indicies_to_merge.append(ind[0][j]) \n",
    "                merged_indicies.append(ind[0][j])\n",
    "\n",
    "        mean_points = np.mean(points[indicies_to_merge,:],axis=0)\n",
    "        unique_points.append(mean_points)\n",
    "        \n",
    "unique_points = np.asarray(unique_points)"
   ]
  },
  {
   "cell_type": "markdown",
   "metadata": {},
   "source": [
    "So, now we have a bunch of 3D points, and corresponding 2D points in the photo.\n",
    "\n",
    "Now it's time to turn to the real magic, bundle adjustment. Basically, our task at hand, is to find a camera, which best fits the data we have measured. \n",
    "\n",
    "Let's talk more about cameras.\n",
    "\n",
    "> Important: There are many correct ways to model a camera mathematically. This is one way.\n",
    "\n",
    "\n",
    "Mathematically, cameras are are composed of two types of parameters, *Intrinsic* and *Extrinsic*.\n",
    "The *Extrinsic* parameters define the position and rotation of the camera, with respect to the origin of the points it's observing.\n",
    "\n",
    "The *Intrinsic* parameters define the parameters of the camera itself, for example the Focal length, the location of the camera's radial center, as well as distortion induced by the lens.\n",
    "\n",
    "\n",
    "The *Extrinisic* parameters are comprised of 6 degrees of freedom, given our world is 3 dimensional, and there are 3 dimensions which to rotate around. \n",
    "\n",
    "The *Intrinsic* parameters are more complex. There are a number of great resources, for example *Multiple View Geometry in Computer Vision*, or the OpenCV documentation. However, In this case, I am assuming that the principal point, the focal length, and the radial parameters are unknown.\n",
    "\n",
    "> Note: To be clear, I'm building on the shoulders of giants, I've heavily adapted this example from this incredible demo by *Nikolay Mayorov* which you can find [here](https://scipy-cookbook.readthedocs.io/items/bundle_adjustment.html)\n",
    "\n",
    "\n",
    "Firstly, let's go and import a bunch of stuff we will need later."
   ]
  },
  {
   "cell_type": "code",
   "execution_count": null,
   "metadata": {},
   "outputs": [],
   "source": [
    "from __future__ import print_function"
   ]
  },
  {
   "cell_type": "code",
   "execution_count": null,
   "metadata": {},
   "outputs": [],
   "source": [
    "import numpy as np\n",
    "import matplotlib.pyplot as plt\n",
    "\n",
    "from scipy.optimize import least_squares\n",
    "from scipy.spatial.transform import Rotation as Rot\n",
    "\n",
    "%matplotlib inline\n",
    "\n",
    "plt.rcParams[\"figure.figsize\"] = (20,20)"
   ]
  },
  {
   "cell_type": "code",
   "execution_count": null,
   "metadata": {},
   "outputs": [],
   "source": [
    "points_2d = unique_points[:,0:2]\n",
    "points_3d = unique_points[:,2:5]\n",
    "\n",
    "print('We have {} unique points'.format(points_2d.shape[0]))\n"
   ]
  },
  {
   "cell_type": "markdown",
   "metadata": {},
   "source": [
    "Let's start by providing some hints to the optimiser about what the solution could be like, by putting in some reasonable starting conditions. \n",
    "\n",
    "We know both the image width and height, and we can assume that the principal point is in the center of the image.\n",
    "\n",
    "I think the cameras is about 10 meters off the ground.\n",
    "\n",
    "To make the task of optimization easier, lets rotate the camera so that it's facing directly down. This means that the points should be in front of/below it.\n",
    "\n",
    "Let's also start off by assuming that the camera is centered above the points. It's obviously not correct, based on what we can see in the image, but it's not horrifically wrong. "
   ]
  },
  {
   "cell_type": "code",
   "execution_count": null,
   "metadata": {},
   "outputs": [],
   "source": [
    "image_width =  2251\n",
    "image_height = 1508\n",
    "\n",
    "estimated_focal_length_px = 2000\n",
    "\n",
    "camera_params = np.zeros(12)\n",
    "\n",
    "r = Rot.from_euler('x', 180, degrees=True).as_rotvec()\n",
    "#Rotation matrix\n",
    "camera_params[0] = r[0]\n",
    "camera_params[1] = r[1]\n",
    "camera_params[2] = r[2]\n",
    "\n",
    "#C\n",
    "camera_params[3] = points_3d[:,0].mean()\n",
    "camera_params[4] = points_3d[:,1].mean()\n",
    "camera_params[5] = 10\n",
    "\n",
    "#f,k1,k2,\n",
    "camera_params[6] = estimated_focal_length_px\n",
    "camera_params[7] = 0\n",
    "camera_params[8] = 0\n",
    "camera_params[9] = 0\n",
    "\n",
    "\n",
    "#c_x,c_y\n",
    "camera_params[10] = image_width/2.0\n",
    "camera_params[11] = image_height/2.0"
   ]
  },
  {
   "cell_type": "markdown",
   "metadata": {},
   "source": [
    "Now we come to the real magic. This function models the camera, taking points in 3D space, and converting them into points in 2D space.\n",
    "\n",
    "There are lots of things going on here."
   ]
  },
  {
   "cell_type": "markdown",
   "metadata": {},
   "source": [
    "![Diagram of a pinhole camera](images/2020-2-23-An-Adventure-In-Camera-Calibration/pinholeCamera.png)"
   ]
  },
  {
   "cell_type": "markdown",
   "metadata": {},
   "source": [
    "Firstly, let's talk about the camera's intrinsic matrix.\n",
    "\n",
    "Basically, it converts points from 3D space to 2D space.\n",
    "\n",
    "\\begin{equation*}\n",
    "K = \n",
    "\\begin{bmatrix}\n",
    "f & 0 & c_{x} \\\\\n",
    "0 & f & c_{y} \\\\\n",
    "0 & 0 & 1 \n",
    "\\end{bmatrix}\n",
    "\\end{equation*}\n",
    "\n",
    "\n",
    "We have the focal length, $f$, and the camera optical center $c_x$ and $c_y$."
   ]
  },
  {
   "cell_type": "markdown",
   "metadata": {},
   "source": [
    "Now let's talk about the camera's extrinsic matrix. \n",
    "\n",
    "These are the 6 degrees of freedom that describe it's position and orientation within the world. \n",
    "That's 3 degrees for the position, and 3 for the orientation. At its heart, what we are doing is simple, but confusing. \n",
    "\n",
    "There are so many ways to represent our setup:\n",
    "1. Coordinate systems: 2D and 3D.\n",
    "  * Left Handed or Right Handed?\n",
    "   \n",
    "2. Rotations:\n",
    "  * Quaternions?\n",
    "  * Proper Euler angles (6 different ways)?\n",
    "  * Tait–Bryan angles (6 different ways)?\n",
    "  * Rodrigues rotation formula?\n",
    "  * A rotation matrix? \n",
    "3. The location of the camera in to the world. (2 Different ways).\n",
    "\n",
    "\n",
    "Today we are going to use two different ways to represent the rotations, Firstly a [Rodrigues rotation vector](https://en.wikipedia.org/wiki/Rodrigues%27_rotation_formula) representation, and a rotation matrix. The reason why we use two different representations is because it's easier to optimise when we have 3 degrees of freedom, rather than a naive rotation matrix which uses 9 numbers to represent 3 degrees of freedom.\n",
    "\n",
    "R represents the orientation of the camera in the World Coordinate Frame (The frame which we use to describe our 3D points).\n",
    "\n",
    "In python, we can use convert from the Rodrigues rotation vector to the Rotation matrix as follows:"
   ]
  },
  {
   "cell_type": "markdown",
   "metadata": {},
   "source": [
    "```python\n",
    "from scipy.spatial.transform import Rotation as Rot\n",
    "rotation_vector = camera_params[:3]\n",
    "R = Rot.from_rotvec(rotation_vector).as_matrix()\n",
    "```"
   ]
  },
  {
   "cell_type": "markdown",
   "metadata": {},
   "source": [
    "\\begin{equation*}\n",
    "R = \n",
    "\\begin{bmatrix}\n",
    "R_1 & R_2 & R_3 \\\\\n",
    "R_4 & R_5 & R_6 \\\\\n",
    "R_7 & R_8 & R_9 \n",
    "\\end{bmatrix}\n",
    "\\end{equation*}"
   ]
  },
  {
   "cell_type": "markdown",
   "metadata": {},
   "source": [
    "Now, let's talk about the Project Matrix $P$ of the camera. This takes the points all the way from their location in 3D world coordinates, to pixel coordinates, assuming we have a camera without radial distortion. There are two main ways this could be formulated."
   ]
  },
  {
   "cell_type": "markdown",
   "metadata": {},
   "source": [
    "Firstly:\n",
    "\\begin{equation*}\n",
    "P = KR[I|−C]\n",
    "\\end{equation*}\n",
    "\n",
    "Secondly:\n",
    "\\begin{equation*}\n",
    "P = K[R | t]\n",
    "\\end{equation*}\n",
    "\n",
    "\n",
    "Where $t$ is:\n",
    "\\begin{equation*}\n",
    "t = −RC\n",
    "\\end{equation*}"
   ]
  },
  {
   "cell_type": "markdown",
   "metadata": {},
   "source": [
    "Let's go with the first method, where C is :\n",
    "\n",
    "\\begin{equation*}\n",
    "C = \n",
    "\\begin{bmatrix}\n",
    "-C_X\\\\\n",
    "-C_Y\\\\\n",
    "-C_Z \n",
    "\\end{bmatrix}\n",
    "\\end{equation*}\n"
   ]
  },
  {
   "cell_type": "markdown",
   "metadata": {},
   "source": [
    "However, there is one subtlety alluded to before, which is the impact of radial distortion. Simply, the camera's lens distorts the rays of light coming in, in a non-linear way. \n",
    "\n",
    "We can model it using a [Taylor series](https://en.wikipedia.org/wiki/Taylor_series):\n",
    "\n",
    "\\begin{equation*}\n",
    "x_c = x(1 + k_1  r^2 + k_2  r^4 + k_3 r^6)\n",
    "\\end{equation*}\n",
    "\\begin{equation*}\n",
    "y_c = y(1 + k_1  r^2 + k_2 r^4 + k_3 r^6)\n",
    "\\end{equation*}\n"
   ]
  },
  {
   "cell_type": "markdown",
   "metadata": {},
   "source": [
    "In python, we end up with:\n",
    "```python\n",
    "r = np.sqrt(np.sum(points_proj**2, axis=1)))\n",
    "r = 1 + k1 \\times r**2 + k2 * r**4 + k3 * r**6\n",
    "points_proj *= r[:, np.newaxis]\n",
    "```\n",
    "    \n",
    " \n",
    "    "
   ]
  },
  {
   "cell_type": "code",
   "execution_count": null,
   "metadata": {},
   "outputs": [],
   "source": [
    "def project(points, camera_params):\n",
    "    \"\"\"Convert 3-D points to 2-D by projecting onto images.\"\"\"\n",
    "    #Rotation\n",
    "    rotation_vector = camera_params[:3]\n",
    "    R = Rot.from_rotvec(rotation_vector).as_matrix()\n",
    "    \n",
    "    #Camera Center\n",
    "    C = camera_params[3:6].reshape(3,1)\n",
    "    IC = np.hstack([np.eye(3),-C])\n",
    "    RIC = np.matmul(R,IC)\n",
    "    \n",
    "    #Make points Homogeneous\n",
    "    points = np.hstack([points,np.ones((points.shape[0],1))])\n",
    "    \n",
    "    #Perform Rotation and Translation\n",
    "    #(n,k), (k,m) -> (n,m)\n",
    "    points_proj = np.matmul(points,RIC.T)\n",
    "    \n",
    "    #perspective divide \n",
    "    points_proj = points_proj[:, :2] / points_proj[:, 2, np.newaxis]\n",
    "    \n",
    "    f  = camera_params[6]\n",
    "    \n",
    "    k1 = camera_params[7]\n",
    "    k2 = camera_params[8]\n",
    "    k3 = camera_params[9]\n",
    "    c_x = camera_params[10]\n",
    "    c_y = camera_params[11]\n",
    "    \n",
    "    #Radial distortion\n",
    "    r = np.sqrt(np.sum(points_proj**2, axis=1))\n",
    "    \n",
    "    x = points_proj[:,0]\n",
    "    y = points_proj[:,1]\n",
    "    \n",
    "    points_proj[:,0] = (1 + k1 * r**2 + k2 * r**4 + k3 * r**6)*x\n",
    "    points_proj[:,1] = (1 + k1 * r**2 + k2 * r**4 + k3 * r**6)*y\n",
    "    \n",
    "    #Make points Homogeneous\n",
    "    points_proj = np.hstack([points_proj, np.ones((points_proj.shape[0],1))])\n",
    "    \n",
    "    K = np.asarray([[f, 0, c_x],\n",
    "                    [0, f, c_y],\n",
    "                    [0, 0,   1.0]])\n",
    "    \n",
    "    points_proj = np.dot(points_proj,K.T)\n",
    "    points_proj = points_proj[:,:2]\n",
    "    return(points_proj)"
   ]
  },
  {
   "cell_type": "markdown",
   "metadata": {},
   "source": [
    "This section below is really well explained by [here](https://scipy-cookbook.readthedocs.io/items/bundle_adjustment.html). Basically, we are optimizing to minimise a geometric error. It's the distance between the 2D points we see, and the projection of their 3D counterparts. \n",
    "\n",
    "Through a process of optimization, we aim to find parameters which result in low error, which means in turn they should represent the real parameters of the camera."
   ]
  },
  {
   "cell_type": "code",
   "execution_count": null,
   "metadata": {},
   "outputs": [],
   "source": [
    "def fun(camera_params, points_2d, points_3d):\n",
    "    #Compute residuals.\n",
    "    points_proj = project(points_3d, camera_params)\n",
    "    return(points_proj - points_2d).ravel()"
   ]
  },
  {
   "cell_type": "code",
   "execution_count": null,
   "metadata": {},
   "outputs": [],
   "source": [
    "x0 = camera_params.ravel()\n",
    "\n",
    "optimization_results = least_squares(fun, x0,  verbose=1, x_scale='jac', ftol=1e-4, method='lm',\n",
    "                                     loss='linear',args=(points_2d, points_3d))"
   ]
  },
  {
   "cell_type": "markdown",
   "metadata": {},
   "source": [
    "Now let's go and check out the results of our optimization process."
   ]
  },
  {
   "cell_type": "code",
   "execution_count": null,
   "metadata": {},
   "outputs": [],
   "source": [
    "camera_params = optimization_results.x\n",
    "\n",
    "R_Rodrigues = camera_params[0:3]\n",
    "C = camera_params[3:6]\n",
    "\n",
    "r = Rot.from_rotvec(R_Rodrigues)\n",
    "R_matrix = r.as_matrix()\n",
    "\n",
    "r = Rot.from_matrix(R_matrix.T)\n",
    "R_Quaternion = r.as_quat()\n",
    "\n",
    "print('Quaternions: X: {:.3f} Y: {:.3f} Z: {:.3f} W: {:.3f} '.format(R_Quaternion[0],R_Quaternion[1],R_Quaternion[2],R_Quaternion[3]))\n",
    "print('Camera position relative to the origin in (M): X: {:.2f}, Y: {:.2f}, Z: {:.2f}'.format(C[0],C[1],C[2]))\n",
    "\n",
    "focal_length_px = camera_params[6]\n",
    "k1 = camera_params[7]\n",
    "k2 = camera_params[8]\n",
    "k3 = camera_params[9]\n",
    "\n",
    "c_x = camera_params[10]\n",
    "c_y = camera_params[11]\n",
    "\n",
    "print('Focal length (Pixels): {:.2f}'.format(focal_length_px))\n",
    "print('CX, CY: {:.2f} {:.2f}'.format(c_x,c_y))\n",
    "\n",
    "print('K_1, K_2, K_3 : {:.6f}, {:.6f}, {:.6f}'.format(k1,k2,k3))\n",
    "print('Mean error per point: {:.2f} pixels '.format(optimization_results.cost/points_2d.shape[0]))"
   ]
  },
  {
   "cell_type": "markdown",
   "metadata": {},
   "source": [
    "Ok, first things first, the mean error per point is approximately 3.6 pixels, which is not great, not terrible. \n",
    "It's clear that we have found a decent solution, However there are some interesting things going on. \n",
    "\n",
    "In particular, the principal point lies outside the image, which is curious to say the least. One possibility is that the image was cropped.\n",
    "\n",
    "Now let's have a quick look at the errors for each point."
   ]
  }
 ],
 "metadata": {
  "kernelspec": {
   "display_name": "PyMC3",
   "language": "python",
   "name": "pymc3"
  },
  "language_info": {
   "codemirror_mode": {
    "name": "ipython",
    "version": 3
   },
   "file_extension": ".py",
   "mimetype": "text/x-python",
   "name": "python",
   "nbconvert_exporter": "python",
   "pygments_lexer": "ipython3",
   "version": "3.7.6"
  }
 },
 "nbformat": 4,
 "nbformat_minor": 2
}
