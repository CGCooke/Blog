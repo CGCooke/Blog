{
 "cells": [
  {
   "cell_type": "markdown",
   "metadata": {},
   "source": [
    "# Bayesian Camera Calibration\n",
    "> Let's apply Bayesian analysis to calibrate a camera\n",
    "\n",
    "- toc: true \n",
    "- badges: true\n",
    "- comments: true\n",
    "- categories: [Bayesian, Computer Vision]\n",
    "- image: images/2020-03-28-Bayesian-Camera-Calibration/header.jpg"
   ]
  },
  {
   "cell_type": "code",
   "execution_count": 1,
   "metadata": {},
   "outputs": [],
   "source": [
    "import numpy as np\n",
    "import matplotlib.pyplot as plt\n",
    "import pymc3 as pm\n",
    "\n",
    "plt.rcParams['figure.figsize'] = [10,10]"
   ]
  },
  {
   "cell_type": "code",
   "execution_count": 2,
   "metadata": {},
   "outputs": [],
   "source": [
    "def x_rot(theta,x,y,z):\n",
    "    theta *= np.pi/180\n",
    "    x_rot = x\n",
    "    y_rot = np.cos(theta)*y - np.sin(theta)*z\n",
    "    z_rot = np.sin(theta)*y + np.cos(theta)*z\n",
    "    return(x_rot,y_rot,z_rot)\n",
    "\n",
    "def y_rot(theta,x,y,z):\n",
    "    theta *= np.pi/180\n",
    "    x_rot = np.cos(theta)*x + np.sin(theta)*z\n",
    "    y_rot = y\n",
    "    z_rot = -np.sin(theta)*x + np.cos(theta)*z\n",
    "    return(x_rot,y_rot,z_rot)\n",
    "\n",
    "def z_rot(theta,x,y,z):\n",
    "    theta *= np.pi/180\n",
    "    x_rot = np.cos(theta)*x - np.sin(theta)*y\n",
    "    y_rot = np.sin(theta)*x + np.cos(theta)*y\n",
    "    z_rot = z\n",
    "    return(x_rot,y_rot,z_rot)\n",
    "\n",
    "\n",
    "points = np.loadtxt(\"data/2020-02-23-An-Adventure-In-Camera-Calibration/points.csv\")\n",
    "\n",
    "points_2d = points[:,0:2]\n",
    "points_3d = points[:,2:5]\n",
    "\n",
    "number_points = points.shape[0]\n",
    "\n",
    "px = points_2d[:,0]\n",
    "py = points_2d[:,1]\n",
    "\n",
    "X_input = points_3d[:,0]\n",
    "Y_input = points_3d[:,1]\n",
    "Z_input = points_3d[:,2]"
   ]
  },
  {
   "cell_type": "code",
   "execution_count": 3,
   "metadata": {
    "scrolled": false
   },
   "outputs": [
    {
     "name": "stderr",
     "output_type": "stream",
     "text": [
      "Auto-assigning NUTS sampler...\n",
      "Initializing NUTS using jitter+adapt_diag...\n",
      "Multiprocess sampling (4 chains in 4 jobs)\n",
      "NUTS: [c_y, c_x, theta_X, theta_Y, theta_Z, focal_length, Z_translate, Y_translate, X_translate]\n",
      "Sampling 4 chains, 0 divergences:   1%|          | 269/28000 [00:01<02:16, 202.49draws/s] \n"
     ]
    },
    {
     "ename": "RuntimeError",
     "evalue": "Chain 2 failed.",
     "output_type": "error",
     "traceback": [
      "\u001b[0;31m---------------------------------------------------------------------------\u001b[0m",
      "\u001b[0;31mRemoteTraceback\u001b[0m                           Traceback (most recent call last)",
      "\u001b[0;31mRemoteTraceback\u001b[0m: \n\"\"\"\nTraceback (most recent call last):\n  File \"/anaconda3/envs/PyMC3/lib/python3.7/site-packages/pymc3/parallel_sampling.py\", line 110, in run\n    self._start_loop()\n  File \"/anaconda3/envs/PyMC3/lib/python3.7/site-packages/pymc3/parallel_sampling.py\", line 160, in _start_loop\n    point, stats = self._compute_point()\n  File \"/anaconda3/envs/PyMC3/lib/python3.7/site-packages/pymc3/parallel_sampling.py\", line 191, in _compute_point\n    point, stats = self._step_method.step(self._point)\n  File \"/anaconda3/envs/PyMC3/lib/python3.7/site-packages/pymc3/step_methods/arraystep.py\", line 247, in step\n    apoint, stats = self.astep(array)\n  File \"/anaconda3/envs/PyMC3/lib/python3.7/site-packages/pymc3/step_methods/hmc/base_hmc.py\", line 130, in astep\n    self.potential.raise_ok(self._logp_dlogp_func._ordering.vmap)\n  File \"/anaconda3/envs/PyMC3/lib/python3.7/site-packages/pymc3/step_methods/hmc/quadpotential.py\", line 231, in raise_ok\n    raise ValueError('\\n'.join(errmsg))\nValueError: Mass matrix contains zeros on the diagonal. \nThe derivative of RV `c_y`.ravel()[0] is zero.\nThe derivative of RV `c_x`.ravel()[0] is zero.\nThe derivative of RV `theta_X`.ravel()[0] is zero.\nThe derivative of RV `theta_Y`.ravel()[0] is zero.\nThe derivative of RV `theta_Z`.ravel()[0] is zero.\nThe derivative of RV `focal_length`.ravel()[0] is zero.\nThe derivative of RV `Z_translate`.ravel()[0] is zero.\nThe derivative of RV `Y_translate`.ravel()[0] is zero.\nThe derivative of RV `X_translate`.ravel()[0] is zero.\n\"\"\"",
      "\nThe above exception was the direct cause of the following exception:\n",
      "\u001b[0;31mValueError\u001b[0m                                Traceback (most recent call last)",
      "\u001b[0;31mValueError\u001b[0m: Mass matrix contains zeros on the diagonal. \nThe derivative of RV `c_y`.ravel()[0] is zero.\nThe derivative of RV `c_x`.ravel()[0] is zero.\nThe derivative of RV `theta_X`.ravel()[0] is zero.\nThe derivative of RV `theta_Y`.ravel()[0] is zero.\nThe derivative of RV `theta_Z`.ravel()[0] is zero.\nThe derivative of RV `focal_length`.ravel()[0] is zero.\nThe derivative of RV `Z_translate`.ravel()[0] is zero.\nThe derivative of RV `Y_translate`.ravel()[0] is zero.\nThe derivative of RV `X_translate`.ravel()[0] is zero.",
      "\nThe above exception was the direct cause of the following exception:\n",
      "\u001b[0;31mRuntimeError\u001b[0m                              Traceback (most recent call last)",
      "\u001b[0;32m<ipython-input-3-f295a8bde81b>\u001b[0m in \u001b[0;36m<module>\u001b[0;34m\u001b[0m\n\u001b[1;32m     50\u001b[0m \u001b[0;34m\u001b[0m\u001b[0m\n\u001b[1;32m     51\u001b[0m     \u001b[0;31m# Inference!\u001b[0m\u001b[0;34m\u001b[0m\u001b[0;34m\u001b[0m\u001b[0;34m\u001b[0m\u001b[0m\n\u001b[0;32m---> 52\u001b[0;31m     \u001b[0mtrace\u001b[0m \u001b[0;34m=\u001b[0m \u001b[0mpm\u001b[0m\u001b[0;34m.\u001b[0m\u001b[0msample\u001b[0m\u001b[0;34m(\u001b[0m\u001b[0;36m2_000\u001b[0m\u001b[0;34m,\u001b[0m \u001b[0mcores\u001b[0m\u001b[0;34m=\u001b[0m\u001b[0;36m4\u001b[0m\u001b[0;34m,\u001b[0m \u001b[0mtune\u001b[0m\u001b[0;34m=\u001b[0m\u001b[0;36m5000\u001b[0m\u001b[0;34m)\u001b[0m\u001b[0;34m\u001b[0m\u001b[0;34m\u001b[0m\u001b[0m\n\u001b[0m",
      "\u001b[0;32m/anaconda3/envs/PyMC3/lib/python3.7/site-packages/pymc3/sampling.py\u001b[0m in \u001b[0;36msample\u001b[0;34m(draws, step, init, n_init, start, trace, chain_idx, chains, cores, tune, progressbar, model, random_seed, discard_tuned_samples, compute_convergence_checks, **kwargs)\u001b[0m\n\u001b[1;32m    467\u001b[0m         \u001b[0m_print_step_hierarchy\u001b[0m\u001b[0;34m(\u001b[0m\u001b[0mstep\u001b[0m\u001b[0;34m)\u001b[0m\u001b[0;34m\u001b[0m\u001b[0;34m\u001b[0m\u001b[0m\n\u001b[1;32m    468\u001b[0m         \u001b[0;32mtry\u001b[0m\u001b[0;34m:\u001b[0m\u001b[0;34m\u001b[0m\u001b[0;34m\u001b[0m\u001b[0m\n\u001b[0;32m--> 469\u001b[0;31m             \u001b[0mtrace\u001b[0m \u001b[0;34m=\u001b[0m \u001b[0m_mp_sample\u001b[0m\u001b[0;34m(\u001b[0m\u001b[0;34m**\u001b[0m\u001b[0msample_args\u001b[0m\u001b[0;34m)\u001b[0m\u001b[0;34m\u001b[0m\u001b[0;34m\u001b[0m\u001b[0m\n\u001b[0m\u001b[1;32m    470\u001b[0m         \u001b[0;32mexcept\u001b[0m \u001b[0mpickle\u001b[0m\u001b[0;34m.\u001b[0m\u001b[0mPickleError\u001b[0m\u001b[0;34m:\u001b[0m\u001b[0;34m\u001b[0m\u001b[0;34m\u001b[0m\u001b[0m\n\u001b[1;32m    471\u001b[0m             \u001b[0m_log\u001b[0m\u001b[0;34m.\u001b[0m\u001b[0mwarning\u001b[0m\u001b[0;34m(\u001b[0m\u001b[0;34m\"Could not pickle model, sampling singlethreaded.\"\u001b[0m\u001b[0;34m)\u001b[0m\u001b[0;34m\u001b[0m\u001b[0;34m\u001b[0m\u001b[0m\n",
      "\u001b[0;32m/anaconda3/envs/PyMC3/lib/python3.7/site-packages/pymc3/sampling.py\u001b[0m in \u001b[0;36m_mp_sample\u001b[0;34m(draws, tune, step, chains, cores, chain, random_seed, start, progressbar, trace, model, **kwargs)\u001b[0m\n\u001b[1;32m   1057\u001b[0m         \u001b[0;32mtry\u001b[0m\u001b[0;34m:\u001b[0m\u001b[0;34m\u001b[0m\u001b[0;34m\u001b[0m\u001b[0m\n\u001b[1;32m   1058\u001b[0m             \u001b[0;32mwith\u001b[0m \u001b[0msampler\u001b[0m\u001b[0;34m:\u001b[0m\u001b[0;34m\u001b[0m\u001b[0;34m\u001b[0m\u001b[0m\n\u001b[0;32m-> 1059\u001b[0;31m                 \u001b[0;32mfor\u001b[0m \u001b[0mdraw\u001b[0m \u001b[0;32min\u001b[0m \u001b[0msampler\u001b[0m\u001b[0;34m:\u001b[0m\u001b[0;34m\u001b[0m\u001b[0;34m\u001b[0m\u001b[0m\n\u001b[0m\u001b[1;32m   1060\u001b[0m                     \u001b[0mtrace\u001b[0m \u001b[0;34m=\u001b[0m \u001b[0mtraces\u001b[0m\u001b[0;34m[\u001b[0m\u001b[0mdraw\u001b[0m\u001b[0;34m.\u001b[0m\u001b[0mchain\u001b[0m \u001b[0;34m-\u001b[0m \u001b[0mchain\u001b[0m\u001b[0;34m]\u001b[0m\u001b[0;34m\u001b[0m\u001b[0;34m\u001b[0m\u001b[0m\n\u001b[1;32m   1061\u001b[0m                     \u001b[0;32mif\u001b[0m \u001b[0mtrace\u001b[0m\u001b[0;34m.\u001b[0m\u001b[0msupports_sampler_stats\u001b[0m \u001b[0;32mand\u001b[0m \u001b[0mdraw\u001b[0m\u001b[0;34m.\u001b[0m\u001b[0mstats\u001b[0m \u001b[0;32mis\u001b[0m \u001b[0;32mnot\u001b[0m \u001b[0;32mNone\u001b[0m\u001b[0;34m:\u001b[0m\u001b[0;34m\u001b[0m\u001b[0;34m\u001b[0m\u001b[0m\n",
      "\u001b[0;32m/anaconda3/envs/PyMC3/lib/python3.7/site-packages/pymc3/parallel_sampling.py\u001b[0m in \u001b[0;36m__iter__\u001b[0;34m(self)\u001b[0m\n\u001b[1;32m    392\u001b[0m \u001b[0;34m\u001b[0m\u001b[0m\n\u001b[1;32m    393\u001b[0m         \u001b[0;32mwhile\u001b[0m \u001b[0mself\u001b[0m\u001b[0;34m.\u001b[0m\u001b[0m_active\u001b[0m\u001b[0;34m:\u001b[0m\u001b[0;34m\u001b[0m\u001b[0;34m\u001b[0m\u001b[0m\n\u001b[0;32m--> 394\u001b[0;31m             \u001b[0mdraw\u001b[0m \u001b[0;34m=\u001b[0m \u001b[0mProcessAdapter\u001b[0m\u001b[0;34m.\u001b[0m\u001b[0mrecv_draw\u001b[0m\u001b[0;34m(\u001b[0m\u001b[0mself\u001b[0m\u001b[0;34m.\u001b[0m\u001b[0m_active\u001b[0m\u001b[0;34m)\u001b[0m\u001b[0;34m\u001b[0m\u001b[0;34m\u001b[0m\u001b[0m\n\u001b[0m\u001b[1;32m    395\u001b[0m             \u001b[0mproc\u001b[0m\u001b[0;34m,\u001b[0m \u001b[0mis_last\u001b[0m\u001b[0;34m,\u001b[0m \u001b[0mdraw\u001b[0m\u001b[0;34m,\u001b[0m \u001b[0mtuning\u001b[0m\u001b[0;34m,\u001b[0m \u001b[0mstats\u001b[0m\u001b[0;34m,\u001b[0m \u001b[0mwarns\u001b[0m \u001b[0;34m=\u001b[0m \u001b[0mdraw\u001b[0m\u001b[0;34m\u001b[0m\u001b[0;34m\u001b[0m\u001b[0m\n\u001b[1;32m    396\u001b[0m             \u001b[0;32mif\u001b[0m \u001b[0mself\u001b[0m\u001b[0;34m.\u001b[0m\u001b[0m_progress\u001b[0m \u001b[0;32mis\u001b[0m \u001b[0;32mnot\u001b[0m \u001b[0;32mNone\u001b[0m\u001b[0;34m:\u001b[0m\u001b[0;34m\u001b[0m\u001b[0;34m\u001b[0m\u001b[0m\n",
      "\u001b[0;32m/anaconda3/envs/PyMC3/lib/python3.7/site-packages/pymc3/parallel_sampling.py\u001b[0m in \u001b[0;36mrecv_draw\u001b[0;34m(processes, timeout)\u001b[0m\n\u001b[1;32m    295\u001b[0m             \u001b[0;32melse\u001b[0m\u001b[0;34m:\u001b[0m\u001b[0;34m\u001b[0m\u001b[0;34m\u001b[0m\u001b[0m\n\u001b[1;32m    296\u001b[0m                 \u001b[0merror\u001b[0m \u001b[0;34m=\u001b[0m \u001b[0mRuntimeError\u001b[0m\u001b[0;34m(\u001b[0m\u001b[0;34m\"Chain %s failed.\"\u001b[0m \u001b[0;34m%\u001b[0m \u001b[0mproc\u001b[0m\u001b[0;34m.\u001b[0m\u001b[0mchain\u001b[0m\u001b[0;34m)\u001b[0m\u001b[0;34m\u001b[0m\u001b[0;34m\u001b[0m\u001b[0m\n\u001b[0;32m--> 297\u001b[0;31m             \u001b[0;32mraise\u001b[0m \u001b[0merror\u001b[0m \u001b[0;32mfrom\u001b[0m \u001b[0mold_error\u001b[0m\u001b[0;34m\u001b[0m\u001b[0;34m\u001b[0m\u001b[0m\n\u001b[0m\u001b[1;32m    298\u001b[0m         \u001b[0;32melif\u001b[0m \u001b[0mmsg\u001b[0m\u001b[0;34m[\u001b[0m\u001b[0;36m0\u001b[0m\u001b[0;34m]\u001b[0m \u001b[0;34m==\u001b[0m \u001b[0;34m\"writing_done\"\u001b[0m\u001b[0;34m:\u001b[0m\u001b[0;34m\u001b[0m\u001b[0;34m\u001b[0m\u001b[0m\n\u001b[1;32m    299\u001b[0m             \u001b[0mproc\u001b[0m\u001b[0;34m.\u001b[0m\u001b[0m_readable\u001b[0m \u001b[0;34m=\u001b[0m \u001b[0;32mTrue\u001b[0m\u001b[0;34m\u001b[0m\u001b[0;34m\u001b[0m\u001b[0m\n",
      "\u001b[0;31mRuntimeError\u001b[0m: Chain 2 failed."
     ]
    }
   ],
   "source": [
    "def rotate(theta_Z_est,theta_Y_est,theta_X_est, X_est, Y_est, Z_est):\n",
    "    X_est, Y_est, Z_est = z_rot(theta_Z_est, X_est, Y_est, Z_est)\n",
    "    X_est, Y_est, Z_est = y_rot(theta_Y_est, X_est, Y_est, Z_est)\n",
    "    X_est, Y_est, Z_est = x_rot(theta_X_est, X_est, Y_est, Z_est)\n",
    "    return(X_est, Y_est, Z_est)\n",
    "\n",
    "\n",
    "    # Define priors\n",
    "    X_translate_est = pm.Normal('X_translate', mu = -7, sigma = 1)\n",
    "    Y_translate_est = pm.Normal('Y_translate', mu = -13, sigma = 1)\n",
    "    Z_translate_est = pm.Normal('Z_translate', mu = 3, sigma = 1)\n",
    "    focal_length_est = pm.Normal('focal_length',mu = 1000, sigma = 100)\n",
    "    \n",
    "    theta_Z_est = pm.Normal('theta_Z',mu = -45, sigma = 30)\n",
    "    theta_Y_est = pm.Normal('theta_Y',mu = 0, sigma = 15)\n",
    "    theta_X_est = pm.Normal('theta_X',mu = 90, sigma = 30)\n",
    "    \n",
    "    c_x_est = pm.Normal('c_x',mu = 1038.42, sigma = 100)\n",
    "    c_y_est = pm.Normal('c_y',mu = 2666.56, sigma = 100)\n",
    "    \n",
    "    k1 = -0.351113\n",
    "    k2 = 0.185768\n",
    "    k3 = -0.032289\n",
    "    \n",
    "    error_scale = 2\n",
    "    \n",
    "    X_est = X_input + X_translate_est\n",
    "    Y_est = Y_input + Y_translate_est\n",
    "    Z_est = Z_input + Z_translate_est\n",
    "    \n",
    "    X_est, Y_est, Z_est = rotate(theta_Z_est, theta_Y_est, theta_X_est, X_est, Y_est, Z_est)\n",
    "    \n",
    "    px_est = X_est / Z_est\n",
    "    py_est = Y_est / Z_est\n",
    "    \n",
    "    r = np.sqrt(px_est**2 + py_est**2)\n",
    "    px_est *= (1 + k1 * r + k2 * r**2 + k3 * r**3)\n",
    "    py_est *= (1 + k1 * r + k2 * r**2 + k3 * r**3)\n",
    "    \n",
    "    px_est *= focal_length_est\n",
    "    py_est *= focal_length_est\n",
    "\n",
    "    px_est += c_x_est\n",
    "    py_est += c_y_est\n",
    "\n",
    "    delta = np.sqrt((px - px_est)**2 + (py - py_est)**2)\n",
    "    \n",
    "    # Define likelihood\n",
    "    likelihood = pm.Normal('error', mu = delta, sigma = error_scale, observed=np.zeros(number_points))\n",
    "\n",
    "    # Inference!\n",
    "    trace = pm.sample(2_000, cores=4, tune=5000)"
   ]
  },
  {
   "cell_type": "code",
   "execution_count": null,
   "metadata": {
    "scrolled": false
   },
   "outputs": [],
   "source": [
    "plt.figure(figsize=(7, 7))\n",
    "pm.traceplot(trace[1000:])\n",
    "plt.tight_layout();"
   ]
  },
  {
   "cell_type": "code",
   "execution_count": null,
   "metadata": {
    "scrolled": false
   },
   "outputs": [],
   "source": [
    "pm.plot_posterior(trace);"
   ]
  },
  {
   "cell_type": "code",
   "execution_count": null,
   "metadata": {},
   "outputs": [],
   "source": [
    "pm.summary(trace)"
   ]
  },
  {
   "cell_type": "code",
   "execution_count": null,
   "metadata": {},
   "outputs": [],
   "source": []
  }
 ],
 "metadata": {
  "kernelspec": {
   "display_name": "PyMC3",
   "language": "python",
   "name": "pymc3"
  },
  "language_info": {
   "codemirror_mode": {
    "name": "ipython",
    "version": 3
   },
   "file_extension": ".py",
   "mimetype": "text/x-python",
   "name": "python",
   "nbconvert_exporter": "python",
   "pygments_lexer": "ipython3",
   "version": "3.7.6"
  }
 },
 "nbformat": 4,
 "nbformat_minor": 2
}
